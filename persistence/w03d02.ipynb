{
 "cells": [
  {
   "cell_type": "markdown",
   "metadata": {},
   "source": [
    "- JDBC (Java Database Connectivity)\n",
    "    - https://docs.oracle.com/javase/tutorial/jdbc/basics/processingsqlstatements.html#establishing_connections\n",
    "    - https://dev.mysql.com/doc/connector-j/8.0/en/connector-j-usagenotes-connect-drivermanager.html\n",
    "- Prepared Statements\n",
    "    - https://docs.oracle.com/javase/tutorial/jdbc/basics/prepared.html\n",
    "- Connection Pooling\n",
    "    - https://www.baeldung.com/java-connection-pooling\n",
    "- Transactions\n",
    "    - Properties\n",
    "        - Atomicity: All or nothing\n",
    "        - Consistency: Integrity constraints are maintained\n",
    "        - Isolation: For concurrent transactions data integrity is maintained\n",
    "        - Durability: Updates are permanent after committing\n",
    "        - https://www.geeksforgeeks.org/acid-properties-in-dbms/\n",
    "    - Isolation levels\n",
    "        - Phenomena\n",
    "            - Dirty Read: Transactions reading uncommitted changes\n",
    "            - Non Repeatable read: Diffrent result in case of multiple readings\n",
    "            - Phantom Read: Diffrent set of rows in case of multiple readings\n",
    "        - Levels\n",
    "            - Read Uncommitted\n",
    "            - Read Committed\n",
    "            - Repeatable Read\n",
    "            - Serializable\n",
    "        - https://www.geeksforgeeks.org/transaction-isolation-levels-dbms/\n",
    "    - https://docs.oracle.com/javase/tutorial/jdbc/basics/transactions.html"
   ]
  },
  {
   "cell_type": "code",
   "execution_count": null,
   "metadata": {},
   "outputs": [],
   "source": []
  }
 ],
 "metadata": {
  "kernelspec": {
   "display_name": "Python 3",
   "language": "python",
   "name": "python3"
  },
  "language_info": {
   "codemirror_mode": {
    "name": "ipython",
    "version": 3
   },
   "file_extension": ".py",
   "mimetype": "text/x-python",
   "name": "python",
   "nbconvert_exporter": "python",
   "pygments_lexer": "ipython3",
   "version": "3.7.3"
  }
 },
 "nbformat": 4,
 "nbformat_minor": 2
}
