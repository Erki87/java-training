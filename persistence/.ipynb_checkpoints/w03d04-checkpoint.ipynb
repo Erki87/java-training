{
 "cells": [
  {
   "cell_type": "markdown",
   "metadata": {},
   "source": [
    "**SQL/NOSQL**\n",
    "- https://www.youtube.com/watch?v=ZS_kXvOeQ5Y\n",
    "\n",
    "**REST**\n",
    "- https://www.youtube.com/watch?v=7_LPdttKXPc\n",
    "- https://www.codecademy.com/articles/what-is-rest\n",
    "    - Separation of client and server\n",
    "    - Mutal agreement on message format\n",
    "    - Stateless, no message history recorded\n",
    "    - Standard operations on resources\n",
    "    - Http Request\n",
    "        - Http verb (CRUD operation)\n",
    "        - Http header \n",
    "        - Path \n",
    "        - \n",
    "        - Optional message body (data)\n",
    "    - Http verbs (CRUD operations)\n",
    "        - GET, retrieve a specific resource (by id) or a collection of resources\n",
    "        - POST, create a new resource\n",
    "        - PUT, update a specific resource (by id)\n",
    "        - DELETE, remove a specific resource by id\n",
    "    - Http header (request information)\n",
    "        - Client request header: Accept (MIME Types eg application/json)\n",
    "        - Server response header: Content-Type (MIME Types eg application/json)\n",
    "        - Client request: GET /articles/23 Accept: text/html, application/xhtml\n",
    "        - Server response: HTTP/1.1 200 (OK) Content-Type: text/html\n",
    "    - Path (resource)\n",
    "        - Hierarchical and descriptive\n",
    "        - Contain the information necessary to locate a resource\n",
    "        - GET /customers\n",
    "        - GET /customers/223/orders\n",
    "        - GET /customers/223/orders/12\n",
    "    - Url parameters (optional)\n",
    "    - Message body\n",
    "        - https://www.w3schools.com/whatis/whatis_json.asp\n",
    "    - Status code\n",
    "        - 200 (OK) (GET, PUT)\n",
    "        - 201 (CREATED) (POST)\n",
    "        - 204 (NO CONTENT) (DELETE)\n",
    "        - 400 (BAD REQUEST)\n",
    "        - 403 (FORBIDDEN)\n",
    "        - 404 (NOT FOUND)\n",
    "        - 500 (INTERNAL SERVER ERROR)\n",
    "    - Example\n",
    "        - https://insomnia.rest/\n",
    "        - https://docs.pro.coinbase.com/\n",
    "        - https://api.pro.coinbase.com/products\n",
    "        - https://api.pro.coinbase.com/products/BTC-EUR/candles?start=2019-08-20&end=2019-08-21&granularity=3600\n",
    "- Exercise\n",
    "    - JAX-RS API\n",
    "    - Jersey REST framework\n",
    "    - https://eclipse-ee4j.github.io/jersey.github.io/documentation/latest/getting-started.html"
   ]
  },
  {
   "cell_type": "code",
   "execution_count": null,
   "metadata": {},
   "outputs": [],
   "source": []
  }
 ],
 "metadata": {
  "kernelspec": {
   "display_name": "Python 3",
   "language": "python",
   "name": "python3"
  },
  "language_info": {
   "codemirror_mode": {
    "name": "ipython",
    "version": 3
   },
   "file_extension": ".py",
   "mimetype": "text/x-python",
   "name": "python",
   "nbconvert_exporter": "python",
   "pygments_lexer": "ipython3",
   "version": "3.7.3"
  }
 },
 "nbformat": 4,
 "nbformat_minor": 2
}
