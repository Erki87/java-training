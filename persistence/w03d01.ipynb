{
 "cells": [
  {
   "cell_type": "markdown",
   "metadata": {},
   "source": [
    "**Databases**\n",
    "- Tutorials\n",
    "    - https://www.guru99.com/dbms-tutorial.html\n",
    "    - http://www.mysqltutorial.org/\n",
    "    - https://esb-dev.github.io/dbs.html\n",
    "    - https://dev.mysql.com/doc/refman/8.0/en/\n",
    "- This week\n",
    "    - Docker\n",
    "    - Relational databases\n",
    "    - SQL\n",
    "    - JDBC\n",
    "    - Transactions\n",
    "    - JPA/Hibernate\n",
    "    - NoSQL\n",
    "    - REST"
   ]
  },
  {
   "cell_type": "markdown",
   "metadata": {},
   "source": [
    "**Docker**\n",
    "- https://www.youtube.com/watch?v=066-9yw8-7c\n",
    "- https://www.youtube.com/watch?v=YFl2mCHdv24"
   ]
  },
  {
   "cell_type": "markdown",
   "metadata": {},
   "source": [
    "**Mysql Installation**\n",
    "\n",
    "1. https://dev.mysql.com/downloads/mysql/\n",
    "2. download mysql archive\n",
    "3. unzip archive\n",
    "4. create data dir in unzipped archive\n",
    "5. open console\n",
    "6. cd to bin dir\n",
    "7. in bin dir run: mysqld --console --initialize-insecure\n",
    "8. to start the mysql server run from console: mysqld --console\n",
    "9. to start the mysql client run from console: mysql -u root"
   ]
  },
  {
   "cell_type": "markdown",
   "metadata": {},
   "source": [
    "**Mysql UI**\n",
    "- https://www.mysql.com/products/workbench/\n",
    "- https://dbeaver.io/"
   ]
  },
  {
   "cell_type": "markdown",
   "metadata": {},
   "source": [
    "**Relational databases**\n",
    "- File based storage\n",
    "    - Shop example (articles, customers, orders, etc)\n",
    "        - One file per data category\n",
    "        - Discuss advantages\n",
    "            - Easy to learn and implement\n",
    "            - No additional software/lib required\n",
    "            - No connection overhead -> fast\n",
    "            - Human readable (depending on file format)\n",
    "            - Easy to duplicate\n",
    "        - Discuss disadvantages\n",
    "            - No multiuser support\n",
    "            - No transaction support\n",
    "            - No standardized structure\n",
    "            - Gets more complicated with size\n",
    "            - Queriying and navigating data must be implemented\n",
    "            - Redundant data\n",
    "            - Hard coupling between pysical data layer and application\n",
    "- Show relational database\n",
    "- What does a DMBS do?\n",
    "    - Definition    \n",
    "    - Manipulation\n",
    "    - Querying\n",
    "    - Control\n",
    "    - https://www.guru99.com/what-is-dbms.html#2\n",
    "- ANSI/SPARC Architecture\n",
    "    - https://www.w3schools.in/dbms/database-architecture/\n",
    "- Distributed database\n",
    "    - One machine (app + db on one machine)\n",
    "    - Two machines (app + db on two machines)\n",
    "    - Mulitple apps to one db\n",
    "    - Mulitple apps to multiple dbs\n",
    "- Relational model\n",
    "    - Data types\n",
    "        - http://www.mysqltutorial.org/mysql-data-types.aspx\n",
    "    - Relation/Table\n",
    "    - Attribute/Column\n",
    "    - Relational schema/Header\n",
    "    - Tuple/Row       \n",
    "    - Primary key, Composite key\n",
    "    - Association\n",
    "    - Foreign key\n",
    "    - Multiplicity\n",
    "    - N-ary association\n",
    "        - Employee, Project, Skill, Works in using\n",
    "    - Referential integrity\n",
    "    - Entity-Relationship model (ER model)\n",
    "    - https://www.guru99.com/database-normalization.html\n",
    "    - Views\n",
    "    - https://www.vertabelo.com/blog/inheritance-in-a-relational-database/"
   ]
  },
  {
   "cell_type": "markdown",
   "metadata": {},
   "source": [
    "**SQL**\n",
    "- SQL: DDL, DML, DQL, DCL\n",
    "- DDL\n",
    "    - Show databases\n",
    "    - Create/drop database\n",
    "    - Datatypes\n",
    "        - http://www.mysqltutorial.org/mysql-data-types.aspx\n",
    "    - Constraints\n",
    "    - Create/truncate/drop table\n",
    "    - Alter table\n",
    "    - Sequences (not supported by mysql)\n",
    "- Exercise DDL\n",
    "- DML\n",
    "    - Insert\n",
    "    - Update\n",
    "    - Delete\n",
    "- Exercise DML\n",
    "- DQL\n",
    "    - Use\n",
    "    - Selection\n",
    "    - Sorting\n",
    "    - Projection\n",
    "    - Filtering\n",
    "    - Aliases\n",
    "    - Union\n",
    "    - Intersection (not supported by mysql)\n",
    "    - Cartesian product\n",
    "    - Inner Join \n",
    "    - Equi join\n",
    "    - Natural join\n",
    "    - Outer join\n",
    "    - https://www.w3schools.com/sql/sql_join.asp\n",
    "    - Grouping, Aggregation\n",
    "    - Subquery\n",
    "- Exercise DQL"
   ]
  },
  {
   "cell_type": "code",
   "execution_count": null,
   "metadata": {},
   "outputs": [],
   "source": []
  }
 ],
 "metadata": {
  "kernelspec": {
   "display_name": "Python 3",
   "language": "python",
   "name": "python3"
  },
  "language_info": {
   "codemirror_mode": {
    "name": "ipython",
    "version": 3
   },
   "file_extension": ".py",
   "mimetype": "text/x-python",
   "name": "python",
   "nbconvert_exporter": "python",
   "pygments_lexer": "ipython3",
   "version": "3.7.3"
  }
 },
 "nbformat": 4,
 "nbformat_minor": 2
}
