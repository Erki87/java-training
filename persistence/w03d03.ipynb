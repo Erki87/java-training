{
 "cells": [
  {
   "cell_type": "markdown",
   "metadata": {},
   "source": [
    "**JPA/Hibernate**\n",
    "- https://www.javaworld.com/article/3379043/what-is-jpa-introduction-to-the-java-persistence-api.html\n",
    "- https://www.javaworld.com/article/3373652/java-persistence-with-jpa-and-hibernate-part-1-entities-and-relationships.html\n",
    "- Why working with objects instead of tables?\n",
    "- Domain objects, DAO layer\n",
    "- Object-relation nagivation\n",
    "- JPA (Java Persistence API)\n",
    "    - ORM API\n",
    "    - Standard/API, no actual implementation\n",
    "    - Makes makes ORM mapping with JDBC redundant\n",
    "    - CRUD operations out of the box\n",
    "    - Complex operations\n",
    "        - JPQL (Java Persistence Query Language)\n",
    "        - SQL (Structured Query Language)\n",
    "    - Annotations or XML files define ORM mapping\n",
    "    - Entities\n",
    "    - EntityManager\n",
    "        - Performs database interactions\n",
    "        - Manages persistence context\n",
    "        - Configured by persistence.xml\n",
    "            - Persistence framework (eg Hibernate)\n",
    "            - Database connection\n",
    "            - Entities\n",
    "    - Persistence context\n",
    "        - Persistence state of objects/entities\n",
    "        - https://www.objectdb.com/java/jpa/persistence/managed\n",
    "    - JPA transactions\n",
    "- Hibernate\n",
    "    - Implementation of JPA\n",
    "    - Supported query languanges: JPQL, SQL, HSQL\n",
    "    - Alternatives: EclipseLink, iBatis, ..."
   ]
  },
  {
   "cell_type": "code",
   "execution_count": null,
   "metadata": {},
   "outputs": [],
   "source": []
  }
 ],
 "metadata": {
  "kernelspec": {
   "display_name": "Python 3",
   "language": "python",
   "name": "python3"
  },
  "language_info": {
   "codemirror_mode": {
    "name": "ipython",
    "version": 3
   },
   "file_extension": ".py",
   "mimetype": "text/x-python",
   "name": "python",
   "nbconvert_exporter": "python",
   "pygments_lexer": "ipython3",
   "version": "3.7.3"
  }
 },
 "nbformat": 4,
 "nbformat_minor": 2
}
