{
 "cells": [
  {
   "cell_type": "markdown",
   "metadata": {},
   "source": [
    "- https://docs.oracle.com/javase/tutorial/java/nutsandbolts/QandE/questions_variables.html\n",
    "- Bindings\n",
    "- https://docs.oracle.com/javase/tutorial/java/nutsandbolts/operators.html\n",
    "\n",
    "**Wrapper classes and Autoboxing**\n",
    "\n",
    "- All java generics eg List only accept objects\n",
    "- Since primiteves are no objects, those need to be wrapped in \"boxes\"\n",
    "- Wrapper classes or adapters (design pattern) in general are used if an a class is not compatible to a certain interface. This is done by:\n",
    "    - The wrapper encapsulates (wraps around) the class\n",
    "    - Offers methods according to the interface to the outside\n",
    "    - Wires the offered methods internally to the wrapped class\n",
    "    - https://en.wikipedia.org/wiki/Adapter_pattern"
   ]
  },
  {
   "cell_type": "code",
   "execution_count": 1,
   "metadata": {},
   "outputs": [
    {
     "ename": "CompilationException",
     "evalue": "",
     "output_type": "error",
     "traceback": [
      "\u001b[1m\u001b[30m|   \u001b[1m\u001b[30mList<\u001b[0m\u001b[1m\u001b[30m\u001b[41mint\u001b[0m\u001b[1m\u001b[30m> intList = new ArrayList();\u001b[0m",
      "\u001b[1m\u001b[31munexpected type\u001b[0m",
      "\u001b[1m\u001b[31m  required: reference\u001b[0m",
      "\u001b[1m\u001b[31m  found:    int\u001b[0m",
      "",
      "\u001b[1m\u001b[30m|   \u001b[1m\u001b[30mList<int> intList = \u001b[0m\u001b[1m\u001b[30m\u001b[41mnew ArrayList()\u001b[0m\u001b[1m\u001b[30m;\u001b[0m",
      "\u001b[1m\u001b[31munchecked conversion\u001b[0m",
      "\u001b[1m\u001b[31m  required: java.util.List<<any>>\u001b[0m",
      "\u001b[1m\u001b[31m  found:    java.util.ArrayList\u001b[0m",
      ""
     ]
    }
   ],
   "source": [
    "List<int> intList = new ArrayList();"
   ]
  },
  {
   "cell_type": "code",
   "execution_count": 2,
   "metadata": {},
   "outputs": [
    {
     "data": {
      "text/plain": [
       "true"
      ]
     },
     "execution_count": 2,
     "metadata": {},
     "output_type": "execute_result"
    }
   ],
   "source": [
    "//manual solution\n",
    "public class IntWrapper {\n",
    "    int internal;\n",
    "    \n",
    "    public IntWrapper(int internal) {\n",
    "        this.internal = internal;\n",
    "    }\n",
    "}\n",
    "\n",
    "List<IntWrapper> intList = new ArrayList();\n",
    "intList.add(new IntWrapper(1));"
   ]
  },
  {
   "cell_type": "markdown",
   "metadata": {},
   "source": [
    "- But luckily for every primitve exists already a wrapper class\n",
    "    - https://www.geeksforgeeks.org/autoboxing-unboxing-java/\n",
    "    - https://docs.oracle.com/javase/tutorial/java/data/autoboxing.html"
   ]
  },
  {
   "cell_type": "code",
   "execution_count": 3,
   "metadata": {},
   "outputs": [
    {
     "data": {
      "text/plain": [
       "true"
      ]
     },
     "execution_count": 3,
     "metadata": {},
     "output_type": "execute_result"
    }
   ],
   "source": [
    "List<Integer> intList = new ArrayList();\n",
    "intList.add(new Integer(1)); //not required anymore"
   ]
  },
  {
   "cell_type": "markdown",
   "metadata": {},
   "source": [
    "- Even better java does this for you automatically (autoboxing)"
   ]
  },
  {
   "cell_type": "code",
   "execution_count": 4,
   "metadata": {},
   "outputs": [
    {
     "data": {
      "text/plain": [
       "true"
      ]
     },
     "execution_count": 4,
     "metadata": {},
     "output_type": "execute_result"
    }
   ],
   "source": [
    "List<Integer> intList = new ArrayList();\n",
    "intList.add(1);"
   ]
  },
  {
   "cell_type": "markdown",
   "metadata": {},
   "source": [
    "- And even the other way around (unboxing)"
   ]
  },
  {
   "cell_type": "code",
   "execution_count": 5,
   "metadata": {},
   "outputs": [
    {
     "name": "stdout",
     "output_type": "stream",
     "text": [
      "1\n",
      "1\n"
     ]
    }
   ],
   "source": [
    "List<Integer> intList = new ArrayList();\n",
    "intList.add(1);\n",
    "\n",
    "int unbox = intList.get(0);\n",
    "System.out.println(unbox);\n",
    "unbox = intList.get(0).intValue(); //not required anymore\n",
    "System.out.println(unbox);"
   ]
  },
  {
   "cell_type": "markdown",
   "metadata": {},
   "source": [
    "- But the object classes also implement methods for string parsing, which is still relevant"
   ]
  },
  {
   "cell_type": "code",
   "execution_count": 6,
   "metadata": {},
   "outputs": [],
   "source": [
    "int primitive = Integer.parseInt(\"123\");\n",
    "Integer wrapper = Integer.valueOf(\"123\");\n",
    "\n",
    "//primitive = Integer.parseInt(\"a\");\n",
    "//primitive = Integer.parseInt(\"1.2\");\n",
    "\n",
    "//wrapper = Integer.valueOf(\"a\");\n",
    "//wrapper = Integer.valueOf(\"1.3\");\n",
    "\n",
    "Integer wrapper1 = new Integer(\"123\");"
   ]
  },
  {
   "cell_type": "markdown",
   "metadata": {},
   "source": [
    "- Sometimes you need to be careful"
   ]
  },
  {
   "cell_type": "code",
   "execution_count": 7,
   "metadata": {},
   "outputs": [
    {
     "ename": "EvalException",
     "evalue": "null",
     "output_type": "error",
     "traceback": [
      "\u001b[1m\u001b[31m---------------------------------------------------------------------------\u001b[0m",
      "\u001b[1m\u001b[31mjava.lang.NullPointerException: null\u001b[0m",
      "\u001b[1m\u001b[31m\tat .(#26:1)\u001b[0m"
     ]
    }
   ],
   "source": [
    "List<Integer> intList = new ArrayList<>();\n",
    "intList.add(null);\n",
    "int v = intList.get(0);"
   ]
  },
  {
   "cell_type": "code",
   "execution_count": 8,
   "metadata": {},
   "outputs": [
    {
     "name": "stdout",
     "output_type": "stream",
     "text": [
      "[1]\n"
     ]
    }
   ],
   "source": [
    "List<Integer> intList = new ArrayList<>();\n",
    "intList.add(1);\n",
    "intList.add(2);\n",
    "intList.remove(1);\n",
    "System.out.println(intList);"
   ]
  },
  {
   "cell_type": "code",
   "execution_count": 9,
   "metadata": {},
   "outputs": [
    {
     "name": "stdout",
     "output_type": "stream",
     "text": [
      "[2]\n"
     ]
    }
   ],
   "source": [
    "List<Integer> intList = new ArrayList<>();\n",
    "intList.add(1);\n",
    "intList.add(2);\n",
    "intList.remove(new Integer(1));\n",
    "System.out.println(intList);"
   ]
  },
  {
   "cell_type": "markdown",
   "metadata": {},
   "source": [
    "**String and comparing objects with equals()**\n",
    "- Primitives can be compared with ==\n",
    "- Object equality must be checked with equals()\n",
    "- The == operator only checks if the object reference points to the same address in memeory\n",
    "- https://docs.oracle.com/javase/tutorial/java/data/comparestrings.html"
   ]
  },
  {
   "cell_type": "code",
   "execution_count": 10,
   "metadata": {},
   "outputs": [
    {
     "name": "stdout",
     "output_type": "stream",
     "text": [
      "true\n",
      "true\n",
      "false\n"
     ]
    }
   ],
   "source": [
    "System.out.println(1 == 1);\n",
    "System.out.println(128 == 128);\n",
    "System.out.println(128 == 256);"
   ]
  },
  {
   "cell_type": "code",
   "execution_count": 11,
   "metadata": {},
   "outputs": [
    {
     "name": "stdout",
     "output_type": "stream",
     "text": [
      "false\n",
      "true\n",
      "true\n"
     ]
    }
   ],
   "source": [
    "String a = new String(\"My test string a\");\n",
    "String b = new String(\"My test string a\");\n",
    "String c = a;\n",
    "System.out.println(a == b);\n",
    "System.out.println(a == c);\n",
    "System.out.println(a.equals(c));"
   ]
  },
  {
   "cell_type": "code",
   "execution_count": 12,
   "metadata": {},
   "outputs": [
    {
     "name": "stdout",
     "output_type": "stream",
     "text": [
      "true\n",
      "true\n",
      "true\n"
     ]
    }
   ],
   "source": [
    "String a = \"My test string a\";\n",
    "String b = \"My test string a\";\n",
    "String c = a;\n",
    "System.out.println(a == b);\n",
    "System.out.println(a == c);\n",
    "System.out.println(a.equals(c));"
   ]
  },
  {
   "cell_type": "code",
   "execution_count": 13,
   "metadata": {},
   "outputs": [
    {
     "name": "stdout",
     "output_type": "stream",
     "text": [
      "true\n",
      "true\n",
      "true\n"
     ]
    }
   ],
   "source": [
    "Integer a = 1;\n",
    "Integer b = 1;\n",
    "Integer c = a;\n",
    "System.out.println(a == b);\n",
    "System.out.println(a == c);\n",
    "System.out.println(a.equals(c));"
   ]
  },
  {
   "cell_type": "code",
   "execution_count": 14,
   "metadata": {},
   "outputs": [
    {
     "name": "stdout",
     "output_type": "stream",
     "text": [
      "false\n",
      "true\n",
      "true\n"
     ]
    }
   ],
   "source": [
    "Integer a = 1000000;\n",
    "Integer b = 1000000;\n",
    "Integer c = a;\n",
    "System.out.println(a == b);\n",
    "System.out.println(a == c);\n",
    "System.out.println(a.equals(c));"
   ]
  },
  {
   "cell_type": "code",
   "execution_count": 15,
   "metadata": {},
   "outputs": [
    {
     "name": "stdout",
     "output_type": "stream",
     "text": [
      "true\n",
      "true\n",
      "true\n"
     ]
    }
   ],
   "source": [
    "Integer a = 127;\n",
    "Integer b = 127;\n",
    "Integer c = a;\n",
    "System.out.println(a == b);\n",
    "System.out.println(a == c);\n",
    "System.out.println(a.equals(c));"
   ]
  },
  {
   "cell_type": "code",
   "execution_count": 16,
   "metadata": {},
   "outputs": [
    {
     "name": "stdout",
     "output_type": "stream",
     "text": [
      "false\n",
      "true\n",
      "true\n"
     ]
    }
   ],
   "source": [
    "Integer a = new Integer(1);\n",
    "Integer b = new Integer(1);\n",
    "Integer c = a;\n",
    "System.out.println(a == b);\n",
    "System.out.println(a == c);\n",
    "System.out.println(a.equals(c));"
   ]
  },
  {
   "cell_type": "code",
   "execution_count": 17,
   "metadata": {},
   "outputs": [
    {
     "name": "stdout",
     "output_type": "stream",
     "text": [
      "true\n",
      "true\n",
      "true\n"
     ]
    }
   ],
   "source": [
    "int a = new Integer(1);\n",
    "Integer b = new Integer(1);\n",
    "Integer c = a;\n",
    "System.out.println(a == b);\n",
    "System.out.println(a == c);\n",
    "System.out.println(new Integer(a).equals(c));"
   ]
  },
  {
   "cell_type": "code",
   "execution_count": 18,
   "metadata": {},
   "outputs": [
    {
     "name": "stdout",
     "output_type": "stream",
     "text": [
      "true\n"
     ]
    }
   ],
   "source": [
    "String a = \"test\";\n",
    "String b = \"tEsT\";\n",
    "System.out.println(a.equalsIgnoreCase(b));"
   ]
  },
  {
   "cell_type": "markdown",
   "metadata": {},
   "source": [
    "- How to implement equals on custom objects\n",
    "- http://hg.openjdk.java.net/jdk7u/jdk7u6/jdk/file/8c2c5d63a17e/src/share/classes/java/lang/String.java"
   ]
  },
  {
   "cell_type": "code",
   "execution_count": 19,
   "metadata": {},
   "outputs": [
    {
     "ename": "CompilationException",
     "evalue": "",
     "output_type": "error",
     "traceback": [
      "\u001b[1m\u001b[30m|   \u001b[1m\u001b[30m    private \u001b[0m\u001b[1m\u001b[30m\u001b[41mEngine\u001b[0m\u001b[1m\u001b[30m engine;\u001b[0m",
      "\u001b[1m\u001b[31mcannot find symbol\u001b[0m",
      "\u001b[1m\u001b[31m  symbol:   class Engine\u001b[0m",
      "",
      "\u001b[1m\u001b[30m|   \u001b[1m\u001b[30m        \u001b[0m\u001b[1m\u001b[30m\u001b[41mthis.model\u001b[0m\u001b[1m\u001b[30m = model;\u001b[0m",
      "\u001b[1m\u001b[31mcannot find symbol\u001b[0m",
      "\u001b[1m\u001b[31m  symbol: variable model\u001b[0m",
      "",
      "\u001b[1m\u001b[30m|   \u001b[1m\u001b[30m        if(\u001b[0m\u001b[1m\u001b[30m\u001b[41m!v\u001b[0m\u001b[1m\u001b[30m instanceof Vehicle) {\u001b[0m",
      "\u001b[1m\u001b[31mbad operand type java.lang.Object for unary operator '!'\u001b[0m",
      "",
      "\u001b[1m\u001b[30m|   \u001b[1m\u001b[30m        return ((this.engine).equals(\u001b[0m\u001b[1m\u001b[30m\u001b[41mv.engine\u001b[0m\u001b[1m\u001b[30m)\u001b[0m",
      "\u001b[1m\u001b[31mcannot find symbol\u001b[0m",
      "\u001b[1m\u001b[31m  symbol:   variable engine\u001b[0m",
      "",
      "\u001b[1m\u001b[30m|   \u001b[1m\u001b[30m                    && (this.yearOfProduction == \u001b[0m\u001b[1m\u001b[30m\u001b[41mv.yearOfProduction\u001b[0m\u001b[1m\u001b[30m)\u001b[0m",
      "\u001b[1m\u001b[31mcannot find symbol\u001b[0m",
      "\u001b[1m\u001b[31m  symbol:   variable yearOfProduction\u001b[0m",
      "",
      "\u001b[1m\u001b[30m|   \u001b[1m\u001b[30m                    && (this.manufacturer).equals(\u001b[0m\u001b[1m\u001b[30m\u001b[41mv.manufacturer\u001b[0m\u001b[1m\u001b[30m));\u001b[0m",
      "\u001b[1m\u001b[31mcannot find symbol\u001b[0m",
      "\u001b[1m\u001b[31m  symbol:   variable manufacturer\u001b[0m",
      ""
     ]
    }
   ],
   "source": [
    "public class Vehicle {\n",
    "    private Engine engine;\n",
    "    private int yearOfProduction;\n",
    "    private String manufacturer;\n",
    "     \n",
    "    public Vehicle() {}\n",
    "     \n",
    "    public Vehicle(String model, int yearOfProduction, String manufacturer) {\n",
    "        this.model = model;\n",
    "        this.yearOfProduction = yearOfProduction;\n",
    "        this.manufacturer = manufacturer;\n",
    "    }\n",
    "     \n",
    "    public boolean equals(Object v) {\n",
    "        if (v == null) return false;\n",
    "        \n",
    "        if(!v instanceof Vehicle) {\n",
    "            return false;\n",
    "        }\n",
    "        \n",
    "        v = (Vehicle) v;\n",
    "         \n",
    "        return ((this.engine).equals(v.engine)\n",
    "                    && (this.yearOfProduction == v.yearOfProduction)\n",
    "                    && (this.manufacturer).equals(v.manufacturer));\n",
    "    }\n",
    " \n",
    "}\n",
    "\n",
    "Vehicle myCar = new Vehicle(\"Focus\",2002,\"Ford\");\n",
    "Vehicle minivan = new Vehicle (\"Odyssey\",2014,\"Honda\");\n",
    "Vehicle focus = new Vehicle(\"Focus\",2002,\"Ford\");\n",
    "\n",
    "if (myCar.equals(minivan)) {\n",
    "    System.out.println(\"This isn't supposed to print!\");\n",
    "}\n",
    "\n",
    "if (myCar.equals(focus)) {\n",
    "    System.out.println(\"The equals method is implemented OK\");\n",
    "}"
   ]
  },
  {
   "cell_type": "markdown",
   "metadata": {},
   "source": [
    "**Data encapsulation**\n",
    "- If you do not mess with the internal state, your live gets easier\n",
    "- How to protect the internal state?"
   ]
  },
  {
   "cell_type": "markdown",
   "metadata": {},
   "source": [
    "**Using access modifiers & best practices**\n",
    "- https://docs.oracle.com/javase/tutorial/java/javaOO/accesscontrol.html\n",
    "- Use always the most strict access modifier possible for fields\n",
    "- Only expose constants as public, static, final fields\n",
    "- Use getters, setters and methods to expose interfaces of manipulation to the outside\n",
    "    - Internal representation may still be diffrent\n",
    "    - For boolean fields it is common to use \"is\" instead of \"get\"\n",
    "- If no setters are exposed you can make objects read only"
   ]
  },
  {
   "cell_type": "code",
   "execution_count": 20,
   "metadata": {},
   "outputs": [
    {
     "ename": "CompilationException",
     "evalue": "",
     "output_type": "error",
     "traceback": [
      "\u001b[1m\u001b[30m|   \u001b[1m\u001b[30mpublic class Adress {\u001b[0m",
      "\u001b[1m\u001b[30m|   \u001b[1m\u001b[30m  private Street street;\u001b[0m",
      "\u001b[1m\u001b[30m|   \u001b[1m\u001b[30m\u001b[0m",
      "\u001b[1m\u001b[30m|   \u001b[1m\u001b[30m  // Getter\u001b[0m",
      "\u001b[1m\u001b[30m|   \u001b[1m\u001b[30m  public String getStreet() {\u001b[0m",
      "\u001b[1m\u001b[30m|   \u001b[1m\u001b[30m    return street;\u001b[0m",
      "\u001b[1m\u001b[30m|   \u001b[1m\u001b[30m  }\u001b[0m",
      "\u001b[1m\u001b[30m|   \u001b[1m\u001b[30m\u001b[0m",
      "\u001b[1m\u001b[30m|   \u001b[1m\u001b[30m  // Setter\u001b[0m",
      "\u001b[1m\u001b[30m|   \u001b[1m\u001b[30m  /*public void setStreet(String street) {\u001b[0m",
      "\u001b[1m\u001b[30m|   \u001b[1m\u001b[30m    this.street = street;\u001b[0m",
      "\u001b[1m\u001b[30m|   \u001b[1m\u001b[30m  }*/\u001b[0m",
      "\u001b[1m\u001b[30m|   \u001b[1m\u001b[30m}\u001b[0m",
      "\u001b[1m\u001b[31mUnresolved dependencies:\u001b[0m",
      "\u001b[1m\u001b[31m   - class Street\u001b[0m"
     ]
    }
   ],
   "source": [
    "public class Adress {\n",
    "  private Street street;\n",
    "\n",
    "  // Getter\n",
    "  public String getStreet() {\n",
    "    return street;\n",
    "  }\n",
    "\n",
    "  // Setter\n",
    "  /*public void setStreet(String street) {\n",
    "    this.street = street;\n",
    "  }*/\n",
    "}\n",
    "\n",
    "public class Person {\n",
    "  private Adress adress;\n",
    "\n",
    "  // Getter\n",
    "  public Adress getAdress() {\n",
    "    \n",
    "    //return new Adress(adress);\n",
    "    return adress;\n",
    "  }\n",
    "\n",
    "  // Setter\n",
    "  public void setAdress(Adress adress) {\n",
    "    this.adress = adress;\n",
    "  }\n",
    "}"
   ]
  },
  {
   "cell_type": "code",
   "execution_count": 21,
   "metadata": {},
   "outputs": [
    {
     "ename": "CompilationException",
     "evalue": "",
     "output_type": "error",
     "traceback": [
      "\u001b[1m\u001b[30m|   \u001b[1m\u001b[30mdefault class Person {\u001b[0m",
      "\u001b[1m\u001b[30m|   \u001b[1m\u001b[30m  private String name;\u001b[0m",
      "\u001b[1m\u001b[30m|   \u001b[1m\u001b[30m\u001b[0m",
      "\u001b[1m\u001b[30m|   \u001b[1m\u001b[30m  // Getter\u001b[0m",
      "\u001b[1m\u001b[30m|   \u001b[1m\u001b[30m  default String getName() {\u001b[0m",
      "\u001b[1m\u001b[30m|   \u001b[1m\u001b[30m    return name;\u001b[0m",
      "\u001b[1m\u001b[30m|   \u001b[1m\u001b[30m  }\u001b[0m",
      "\u001b[1m\u001b[30m|   \u001b[1m\u001b[30m\u001b[0m",
      "\u001b[1m\u001b[30m|   \u001b[1m\u001b[30m  // Setter\u001b[0m",
      "\u001b[1m\u001b[30m|   \u001b[1m\u001b[30m  default void setName(String newName) {\u001b[0m",
      "\u001b[1m\u001b[30m|   \u001b[1m\u001b[30m    this.name = newName;\u001b[0m",
      "\u001b[1m\u001b[30m|   \u001b[1m\u001b[30m  }\u001b[0m",
      "\u001b[1m\u001b[30m|   \u001b[1m\u001b[30m}\u001b[0m",
      "\u001b[1m\u001b[31millegal start of statement\u001b[0m",
      ""
     ]
    }
   ],
   "source": [
    "default class Person {\n",
    "  private String name;\n",
    "\n",
    "  // Getter\n",
    "  default String getName() {\n",
    "    return name;\n",
    "  }\n",
    "\n",
    "  // Setter\n",
    "  default void setName(String newName) {\n",
    "    this.name = newName;\n",
    "  }\n",
    "}"
   ]
  },
  {
   "cell_type": "code",
   "execution_count": 22,
   "metadata": {},
   "outputs": [
    {
     "ename": "CompilationException",
     "evalue": "",
     "output_type": "error",
     "traceback": [
      "\u001b[1m\u001b[30m|   \u001b[1m\u001b[30m  String\u001b[0m\u001b[1m\u001b[30m\u001b[41m\u001b[0m\u001b[1m\u001b[30m public getName() {\u001b[0m",
      "\u001b[1m\u001b[31m<identifier> expected\u001b[0m",
      "",
      "\u001b[1m\u001b[30m|   \u001b[1m\u001b[30m  String public \u001b[0m\u001b[1m\u001b[30m\u001b[41m\u001b[0m\u001b[1m\u001b[30mgetName() {\u001b[0m",
      "\u001b[1m\u001b[31minvalid method declaration; return type required\u001b[0m",
      "",
      "\u001b[1m\u001b[30m|   \u001b[1m\u001b[30m  void\u001b[0m\u001b[1m\u001b[30m\u001b[41m\u001b[0m\u001b[1m\u001b[30m public setName(String newName) {\u001b[0m",
      "\u001b[1m\u001b[31m<identifier> expected\u001b[0m",
      "",
      "\u001b[1m\u001b[30m|   \u001b[1m\u001b[30m  \u001b[0m\u001b[1m\u001b[30m\u001b[41mvoid \u001b[0m\u001b[1m\u001b[30mpublic setName(String newName) {\u001b[0m",
      "\u001b[1m\u001b[31m'(' expected\u001b[0m",
      "",
      "\u001b[1m\u001b[30m|   \u001b[1m\u001b[30m  void public \u001b[0m\u001b[1m\u001b[30m\u001b[41m\u001b[0m\u001b[1m\u001b[30msetName(String newName) {\u001b[0m",
      "\u001b[1m\u001b[31minvalid method declaration; return type required\u001b[0m",
      ""
     ]
    }
   ],
   "source": [
    "public class Person {\n",
    "  private String name;\n",
    "\n",
    "  // Getter\n",
    "  String public getName() {\n",
    "    return name;\n",
    "  }\n",
    "\n",
    "  // Setter\n",
    "  void public setName(String newName) {\n",
    "    this.name = newName;\n",
    "  }\n",
    "}"
   ]
  },
  {
   "cell_type": "code",
   "execution_count": 23,
   "metadata": {},
   "outputs": [
    {
     "ename": "CompilationException",
     "evalue": "",
     "output_type": "error",
     "traceback": [
      "\u001b[1m\u001b[30m|   \u001b[1m\u001b[30m  public String getName() \u001b[0m\u001b[1m\u001b[30m\u001b[41m{\u001b[0m",
      "\u001b[1m\u001b[30m|   \u001b[1m\u001b[30m\u001b[41m    if(name.equals(\"Test\")) \u001b[0m",
      "\u001b[1m\u001b[30m|   \u001b[1m\u001b[30m\u001b[41m        return name;\u001b[0m",
      "\u001b[1m\u001b[30m|   \u001b[1m\u001b[30m\u001b[41m    \u001b[0m",
      "\u001b[1m\u001b[30m|   \u001b[1m\u001b[30m\u001b[41m  }\u001b[0m",
      "\u001b[1m\u001b[31mmissing return statement\u001b[0m",
      ""
     ]
    }
   ],
   "source": [
    "public class Person {\n",
    "  private String name;\n",
    "\n",
    "  // Getter\n",
    "  public String getName() {\n",
    "    if(name.equals(\"Test\")) \n",
    "        return name;\n",
    "    \n",
    "  }\n",
    "\n",
    "  // Setter\n",
    "  public void setName(String newName) {\n",
    "    this.name = newName;\n",
    "  }\n",
    "}"
   ]
  },
  {
   "cell_type": "markdown",
   "metadata": {},
   "source": [
    "**Object Lifecycle: Dereferencing and Garbage Collection**\n",
    "- Revisit: what is a JVM, what is the memory\n",
    "- Explain the OutOfMemoryError\n",
    "- Explain what “garbage” means and why we need automatic removal\n",
    "- Explain System.gc() does not run guaranteed and we cannot influence the JVM\n",
    "- Explain when an object is eligible to be removed from the JVM\n",
    "- http://www.oracle.com/webfolder/technetwork/tutorials/obe/java/gc01/index.html"
   ]
  },
  {
   "cell_type": "code",
   "execution_count": null,
   "metadata": {},
   "outputs": [],
   "source": []
  }
 ],
 "metadata": {
  "kernelspec": {
   "display_name": "Java",
   "language": "java",
   "name": "java"
  },
  "language_info": {
   "codemirror_mode": "java",
   "file_extension": ".jshell",
   "mimetype": "text/x-java-source",
   "name": "Java",
   "pygments_lexer": "java",
   "version": "9+181"
  }
 },
 "nbformat": 4,
 "nbformat_minor": 2
}
