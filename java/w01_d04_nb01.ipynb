{
 "cells": [
  {
   "cell_type": "markdown",
   "metadata": {},
   "source": [
    "**While**"
   ]
  },
  {
   "cell_type": "code",
   "execution_count": 1,
   "metadata": {},
   "outputs": [
    {
     "name": "stdout",
     "output_type": "stream",
     "text": [
      "10\n"
     ]
    }
   ],
   "source": [
    "int i = 0;\n",
    "\n",
    "while(i < 10) {\n",
    "    i++;\n",
    "}\n",
    "\n",
    "System.out.println(i);"
   ]
  },
  {
   "cell_type": "code",
   "execution_count": 2,
   "metadata": {},
   "outputs": [
    {
     "name": "stdout",
     "output_type": "stream",
     "text": [
      "7\n"
     ]
    }
   ],
   "source": [
    "int i = 0;\n",
    "boolean quit;\n",
    "\n",
    "while(i < 10 && !quit) {\n",
    "    quit = 5 < i++;\n",
    "}\n",
    "\n",
    "System.out.println(i);"
   ]
  },
  {
   "cell_type": "code",
   "execution_count": 3,
   "metadata": {},
   "outputs": [
    {
     "name": "stdout",
     "output_type": "stream",
     "text": [
      "1\n",
      "3\n",
      "5\n",
      "7\n",
      "9\n"
     ]
    }
   ],
   "source": [
    "int i = 0;\n",
    "\n",
    "while(i < 10) {\n",
    "    i++;\n",
    "    \n",
    "    if(i % 2 == 0) continue;\n",
    "    \n",
    "    System.out.println(i);\n",
    "}"
   ]
  },
  {
   "cell_type": "code",
   "execution_count": 4,
   "metadata": {},
   "outputs": [
    {
     "name": "stdout",
     "output_type": "stream",
     "text": [
      "1\n"
     ]
    }
   ],
   "source": [
    "int i = 0;\n",
    "\n",
    "while(i < 10) {\n",
    "    i++;\n",
    "    \n",
    "    if(i % 2 == 0) break;\n",
    "    \n",
    "    System.out.println(i);\n",
    "}"
   ]
  },
  {
   "cell_type": "code",
   "execution_count": 5,
   "metadata": {},
   "outputs": [
    {
     "name": "stdout",
     "output_type": "stream",
     "text": [
      "1\n",
      "3\n"
     ]
    }
   ],
   "source": [
    "for(int i = 0; i < 10; i++) {\n",
    "    if(i % 2 == 0) continue;\n",
    "    if(i % 5 == 0) break;\n",
    "    System.out.println(i);\n",
    "}"
   ]
  },
  {
   "cell_type": "code",
   "execution_count": 6,
   "metadata": {},
   "outputs": [
    {
     "name": "stdout",
     "output_type": "stream",
     "text": [
      "end\n"
     ]
    }
   ],
   "source": [
    "String comp = new String(\"test\");\n",
    "\n",
    "while(\"test\" == comp) {\n",
    "    System.out.println(\"magic\");    \n",
    "    break;\n",
    "}\n",
    "\n",
    "System.out.println(\"end\");"
   ]
  },
  {
   "cell_type": "code",
   "execution_count": 7,
   "metadata": {},
   "outputs": [
    {
     "name": "stdout",
     "output_type": "stream",
     "text": [
      "magic\n",
      "end\n"
     ]
    }
   ],
   "source": [
    "Integer comp = Integer.parseInt(\"1\");\n",
    "\n",
    "while(1 == comp) {\n",
    "    System.out.println(\"magic\");    \n",
    "    break;\n",
    "}\n",
    "\n",
    "System.out.println(\"end\");"
   ]
  },
  {
   "cell_type": "code",
   "execution_count": 8,
   "metadata": {},
   "outputs": [
    {
     "name": "stdout",
     "output_type": "stream",
     "text": [
      "0 0\n",
      "0 1\n",
      "1 0\n",
      "1 1\n",
      "2 0\n",
      "2 1\n"
     ]
    }
   ],
   "source": [
    "int i = 0;\n",
    "\n",
    "while(i < 3) {\n",
    "    int j = 0;\n",
    "    \n",
    "    while(j < 3) {\n",
    "        System.out.println(i + \" \" + j);    \n",
    "        j++;\n",
    "        \n",
    "        if(j == 2) break;\n",
    "    }\n",
    "    i++;\n",
    "}"
   ]
  },
  {
   "cell_type": "code",
   "execution_count": 9,
   "metadata": {},
   "outputs": [
    {
     "ename": "CompilationException",
     "evalue": "",
     "output_type": "error",
     "traceback": [
      "\u001b[1m\u001b[30m|   \u001b[1m\u001b[30m        if(j == 2) break\u001b[0m\u001b[1m\u001b[30m\u001b[41m\u001b[0m\u001b[1m\u001b[30m(2);\u001b[0m",
      "\u001b[1m\u001b[31m';' expected\u001b[0m",
      ""
     ]
    }
   ],
   "source": [
    "int i = 0;\n",
    "\n",
    "while(i < 3) {\n",
    "    int j = 0;\n",
    "    \n",
    "    while(j < 3) {\n",
    "        System.out.println(i + \" \" + j);    \n",
    "        j++;\n",
    "        \n",
    "        if(j == 2) break(2);\n",
    "    }\n",
    "    i++;\n",
    "}"
   ]
  },
  {
   "cell_type": "code",
   "execution_count": 10,
   "metadata": {},
   "outputs": [
    {
     "name": "stdout",
     "output_type": "stream",
     "text": [
      "0 0\n",
      "0 1\n"
     ]
    }
   ],
   "source": [
    "int i = 0;\n",
    "\n",
    "gohere: while(i < 3) {\n",
    "    int j = 0;\n",
    "    \n",
    "    while(j < 3) {\n",
    "        System.out.println(i + \" \" + j);    \n",
    "        j++;\n",
    "        \n",
    "        if(j == 2) break gohere;\n",
    "    }\n",
    "    i++;\n",
    "}"
   ]
  },
  {
   "cell_type": "code",
   "execution_count": 11,
   "metadata": {},
   "outputs": [],
   "source": [
    "/*int i = 0;\n",
    "\n",
    "gohere: while(i < 3) {\n",
    "    int j = 0;\n",
    "    \n",
    "    while(j < 3) {\n",
    "        System.out.println(i + \" \" + j);    \n",
    "        j++;\n",
    "        \n",
    "        if(j == 2) continue gohere;\n",
    "    }\n",
    "    i++;\n",
    "}*/"
   ]
  },
  {
   "cell_type": "code",
   "execution_count": 12,
   "metadata": {},
   "outputs": [
    {
     "name": "stdout",
     "output_type": "stream",
     "text": [
      "10\n"
     ]
    }
   ],
   "source": [
    "int i = 0;\n",
    "\n",
    "do {\n",
    "    i++;    \n",
    "} while (i < 10);\n",
    "\n",
    "System.out.println(i);"
   ]
  },
  {
   "cell_type": "code",
   "execution_count": 13,
   "metadata": {},
   "outputs": [
    {
     "name": "stdout",
     "output_type": "stream",
     "text": [
      "1\n",
      "0\n"
     ]
    }
   ],
   "source": [
    "int i = 0;\n",
    "\n",
    "do {\n",
    "    i++;    \n",
    "} while (i < 0);\n",
    "\n",
    "System.out.println(i);\n",
    "\n",
    "i = 0;\n",
    "\n",
    "while(i < 0) {\n",
    "    i++;\n",
    "}\n",
    "\n",
    "System.out.println(i);"
   ]
  },
  {
   "cell_type": "markdown",
   "metadata": {},
   "source": [
    "**Switch**\n",
    "\n",
    "Only compile time constant value in case allowed\n",
    "\n",
    "Accepted types:\n",
    "- int and Integer\n",
    "- byte and Byte\n",
    "- short and Short\n",
    "- char and Character\n",
    "- int and Integer\n",
    "- String\n",
    "- enum values"
   ]
  },
  {
   "cell_type": "code",
   "execution_count": 14,
   "metadata": {},
   "outputs": [
    {
     "name": "stdout",
     "output_type": "stream",
     "text": [
      "1\n"
     ]
    }
   ],
   "source": [
    "int i = 0;\n",
    "\n",
    "switch(i) {\n",
    "    case 0:\n",
    "        System.out.println(\"1\");\n",
    "        break;\n",
    "    case 1:\n",
    "        System.out.println(\"2\");\n",
    "        break;\n",
    "    default:\n",
    "        System.out.println(\"3\");\n",
    "        break;\n",
    "}"
   ]
  },
  {
   "cell_type": "code",
   "execution_count": 15,
   "metadata": {},
   "outputs": [
    {
     "name": "stdout",
     "output_type": "stream",
     "text": [
      "1\n",
      "2\n",
      "3\n"
     ]
    }
   ],
   "source": [
    "int i = 0;\n",
    "\n",
    "switch(i) {\n",
    "    case 0:\n",
    "        System.out.println(\"1\");\n",
    "    case 1:\n",
    "        System.out.println(\"2\");\n",
    "    default:\n",
    "        System.out.println(\"3\");\n",
    "}"
   ]
  },
  {
   "cell_type": "code",
   "execution_count": 16,
   "metadata": {},
   "outputs": [
    {
     "name": "stdout",
     "output_type": "stream",
     "text": [
      "1\n",
      "2\n"
     ]
    }
   ],
   "source": [
    "int i =0;\n",
    "\n",
    "switch(i) {\n",
    "    default:\n",
    "        System.out.println(\"3\");\n",
    "    case 0:\n",
    "        System.out.println(\"1\");\n",
    "    case 1:\n",
    "        System.out.println(\"2\");    \n",
    "}"
   ]
  },
  {
   "cell_type": "code",
   "execution_count": 17,
   "metadata": {},
   "outputs": [],
   "source": [
    "int i =2;\n",
    "\n",
    "switch(i) {\n",
    "    case 0:\n",
    "        System.out.println(\"1\");\n",
    "        break;\n",
    "    case 1:\n",
    "        System.out.println(\"2\");\n",
    "        break;\n",
    "}"
   ]
  },
  {
   "cell_type": "code",
   "execution_count": 18,
   "metadata": {},
   "outputs": [
    {
     "ename": "CompilationException",
     "evalue": "",
     "output_type": "error",
     "traceback": [
      "\u001b[1m\u001b[30m|   \u001b[1m\u001b[30m    case \u001b[0m\u001b[1m\u001b[30m\u001b[41mj\u001b[0m\u001b[1m\u001b[30m:\u001b[0m",
      "\u001b[1m\u001b[31mconstant expression required\u001b[0m",
      ""
     ]
    }
   ],
   "source": [
    "int i =0;\n",
    "int j = 1;\n",
    "\n",
    "switch(i) {\n",
    "    default:\n",
    "        System.out.println(\"3\");\n",
    "    case 0:\n",
    "        System.out.println(\"1\");\n",
    "    case j:\n",
    "        System.out.println(\"2\");    \n",
    "}"
   ]
  },
  {
   "cell_type": "code",
   "execution_count": 19,
   "metadata": {},
   "outputs": [
    {
     "ename": "CompilationException",
     "evalue": "",
     "output_type": "error",
     "traceback": [
      "\u001b[1m\u001b[30m|   \u001b[1m\u001b[30m    case \u001b[0m\u001b[1m\u001b[30m\u001b[41m\"1\"\u001b[0m\u001b[1m\u001b[30m:\u001b[0m",
      "\u001b[1m\u001b[31mincompatible types: java.lang.String cannot be converted to int\u001b[0m",
      ""
     ]
    }
   ],
   "source": [
    "int i =0;\n",
    "\n",
    "switch(i) {\n",
    "    default:\n",
    "        System.out.println(\"3\");\n",
    "    case 0:\n",
    "        System.out.println(\"1\");\n",
    "    case \"1\":\n",
    "        System.out.println(\"2\");    \n",
    "}"
   ]
  },
  {
   "cell_type": "code",
   "execution_count": 20,
   "metadata": {},
   "outputs": [
    {
     "name": "stdout",
     "output_type": "stream",
     "text": [
      "1\n",
      "2\n"
     ]
    }
   ],
   "source": [
    "int i =0;\n",
    "\n",
    "switch(i) {\n",
    "    default:\n",
    "        System.out.println(\"3\");\n",
    "    case 0:\n",
    "        System.out.println(\"1\");\n",
    "    case '1':\n",
    "        System.out.println(\"2\");    \n",
    "}"
   ]
  },
  {
   "cell_type": "code",
   "execution_count": 21,
   "metadata": {},
   "outputs": [
    {
     "ename": "CompilationException",
     "evalue": "",
     "output_type": "error",
     "traceback": [
      "\u001b[1m\u001b[30m|   \u001b[1m\u001b[30m    \u001b[0m\u001b[1m\u001b[30m\u001b[41mcase 0:\u001b[0m",
      "\u001b[1m\u001b[30m|   \u001b[1m\u001b[30m\u001b[41m        System.out.println(\"2\");\u001b[0m\u001b[1m\u001b[30m    \u001b[0m",
      "\u001b[1m\u001b[31mduplicate case label\u001b[0m",
      ""
     ]
    }
   ],
   "source": [
    "int i =0;\n",
    "\n",
    "switch(i) {\n",
    "    default:\n",
    "        System.out.println(\"3\");\n",
    "    case 0:\n",
    "        System.out.println(\"1\");\n",
    "    case 0:\n",
    "        System.out.println(\"2\");    \n",
    "}"
   ]
  },
  {
   "cell_type": "markdown",
   "metadata": {},
   "source": [
    "- https://docs.oracle.com/javase/tutorial/java/nutsandbolts/QandE/questions_flow.html"
   ]
  },
  {
   "cell_type": "markdown",
   "metadata": {},
   "source": [
    "**Casting Primitives**"
   ]
  },
  {
   "cell_type": "code",
   "execution_count": 22,
   "metadata": {},
   "outputs": [],
   "source": [
    "//explain casting primitives\n",
    "long l = 1;\n",
    "int i = 1;\n",
    "double d = 1.0;\n",
    "Integer big_i = new Integer(1);\n",
    "Double big_d = new Double(1);\n",
    "\n",
    "l = i;\n",
    "d = i;\n",
    "d = big_i;\n",
    "//i = l;\n",
    "//i = d;\n",
    "\n",
    "i = (int) l;\n",
    "i = (int) d;\n",
    "//i = (int) big_d;\n",
    "i = (int) (double) big_d;"
   ]
  },
  {
   "cell_type": "markdown",
   "metadata": {},
   "source": [
    "**Overloading**\n",
    "- Type promotion\n",
    "    - byte can be promoted to short, int, long, float, or double\n",
    "    - short can be promoted to int, long, float, or double\n",
    "    - char can be promoted to int, long, float, or double\n",
    "    - int can be promoted to long, float, or double\n",
    "    - long can be promoted to float or double\n",
    "    - float can be promoted to double\n",
    "- https://www.baeldung.com/java-method-overload-override"
   ]
  },
  {
   "cell_type": "markdown",
   "metadata": {},
   "source": [
    "**Interfaces**\n",
    "- An interface is a contract/definition that classes need to implement/fullfil\n",
    "- Contracts/definitions provide safety when working with multiple individuals/groups\n",
    "- In Java interface defintions need to be fullfilled\n",
    "- So each individual/group can rely on and implement against interfaces\n",
    "- If provided an interface the user does not need to know its internals to understand how it works\n",
    "- Interfaces may have multiple implementations that fullfil the contract\n",
    "- https://docs.oracle.com/javase/tutorial/java/IandI/interfaceDef.html"
   ]
  },
  {
   "cell_type": "markdown",
   "metadata": {},
   "source": [
    "- interface body\n",
    "    - constants\n",
    "    - abstract methods\n",
    "    - default methods\n",
    "    - static methods "
   ]
  },
  {
   "cell_type": "code",
   "execution_count": 23,
   "metadata": {},
   "outputs": [],
   "source": [
    "interface Car {\n",
    "    void driveForwardMeters(double meters);\n",
    "}"
   ]
  },
  {
   "cell_type": "code",
   "execution_count": 24,
   "metadata": {},
   "outputs": [],
   "source": [
    "public interface MileCloneCar extends Car {\n",
    "    double CONV = 1609.344;\n",
    "    \n",
    "    static double toMeters(double miles) { \n",
    "        return miles * CONV;\n",
    "    }\n",
    "\n",
    "    void driveForwardMiles(double miles);\n",
    "    \n",
    "    default void honk() {\n",
    "        System.out.println(\"honk\");\n",
    "    }\n",
    "}"
   ]
  },
  {
   "cell_type": "code",
   "execution_count": 25,
   "metadata": {},
   "outputs": [
    {
     "ename": "CompilationException",
     "evalue": "",
     "output_type": "error",
     "traceback": [
      "\u001b[1m\u001b[30m|   \u001b[1m\u001b[30mCar noCar = \u001b[0m\u001b[1m\u001b[30m\u001b[41mnew Car()\u001b[0m\u001b[1m\u001b[30m;\u001b[0m",
      "\u001b[1m\u001b[31mCar is abstract; cannot be instantiated\u001b[0m",
      ""
     ]
    }
   ],
   "source": [
    "Car noCar = new Car();"
   ]
  },
  {
   "cell_type": "markdown",
   "metadata": {},
   "source": [
    "- Implementing\n",
    "    - Method access modifies cannot be weakend, only widened\n",
    "    - Return types of implemented methods cannot be altered\n",
    "    - Signature must match definition in interface (name and parameter types)\n",
    "    - Static methods from parent interface need to called by interface name\n",
    "    - Static fields can be hidden by defining one with the same name"
   ]
  },
  {
   "cell_type": "code",
   "execution_count": 26,
   "metadata": {},
   "outputs": [],
   "source": [
    "public class MyMileCloneCar implements MileCloneCar {\n",
    "    double CONV = 16088.344;\n",
    "    \n",
    "    public void driveForwardMeters(double meters) {\n",
    "        System.out.println(\"driveForwardMeters\" + meters);\n",
    "    }\n",
    "    \n",
    "    public void driveForwardMiles(double miles) {\n",
    "        driveForwardMeters(MileCloneCar.toMeters(miles));\n",
    "    }\n",
    "}"
   ]
  },
  {
   "cell_type": "markdown",
   "metadata": {},
   "source": [
    "- https://en.wikipedia.org/wiki/Liskov_substitution_principle"
   ]
  },
  {
   "cell_type": "code",
   "execution_count": 27,
   "metadata": {},
   "outputs": [
    {
     "name": "stdout",
     "output_type": "stream",
     "text": [
      "honk\n"
     ]
    },
    {
     "ename": "CompilationException",
     "evalue": "",
     "output_type": "error",
     "traceback": [
      "\u001b[1m\u001b[30m|   \u001b[1m\u001b[30mSystem.out.println(\u001b[0m\u001b[1m\u001b[30m\u001b[41mMyMileCloneCar.CONV\u001b[0m\u001b[1m\u001b[30m);\u001b[0m",
      "\u001b[1m\u001b[31mnon-static variable CONV cannot be referenced from a static context\u001b[0m",
      ""
     ]
    }
   ],
   "source": [
    "MyMileCloneCar c1 = new MyMileCloneCar();\n",
    "\n",
    "MileCloneCar mcc = c1;\n",
    "Car car = c1;\n",
    "\n",
    "mcc.honk();\n",
    "System.out.println(MyMileCloneCar.CONV);\n",
    "\n",
    "\n",
    "System.out.println(c1 instanceof MyMileCloneCar);\n",
    "System.out.println(c1 instanceof MileCloneCar);\n",
    "System.out.println(c1 instanceof Car);\n",
    "//System.out.println(c1 instanceof Cloneable);\n",
    "\n",
    "//upcasting - always fine\n",
    "mcc = (MileCloneCar) c1;\n",
    "car = (Car) c1;\n",
    "\n",
    "//downasting - throws ClassCastException if not compatible \n",
    "mcc = (MileCloneCar) car;\n",
    "car = (Car) clone;\n",
    "\n",
    "//better\n",
    "if(car instanceof MileCloneCar) {\n",
    "    mcc = (MileCloneCar) car;\n",
    "    System.out.println(\"safe cast\");\n",
    "}"
   ]
  },
  {
   "cell_type": "code",
   "execution_count": 28,
   "metadata": {},
   "outputs": [],
   "source": [
    "interface NotSoCrappy {}\n",
    "class AgainCrappy implements NotSoCrappy {}\n",
    "class CrappyClass implements NotSoCrappy {}\n",
    "interface NotSoCrappy2 extends NotSoCrappy {}\n",
    "interface CrappyInterface2 extends NotSoCrappy {}"
   ]
  },
  {
   "cell_type": "code",
   "execution_count": 29,
   "metadata": {},
   "outputs": [],
   "source": [
    "interface CrappyInterface {\n",
    "    public void doSomething();\n",
    "    public void dontDoThis();\n",
    "    public void protectSomething();\n",
    "    public void body();\n",
    "    default void nope() {;}\n",
    "}"
   ]
  },
  {
   "cell_type": "code",
   "execution_count": 30,
   "metadata": {},
   "outputs": [
    {
     "ename": "CompilationException",
     "evalue": "",
     "output_type": "error",
     "traceback": [
      "\u001b[1m\u001b[30m|   \u001b[1m\u001b[30m    \u001b[0m\u001b[1m\u001b[30m\u001b[41mpublic double driveForwardMeters(double meters) {\u001b[0m",
      "\u001b[1m\u001b[30m|   \u001b[1m\u001b[30m\u001b[41m        return meters;\u001b[0m",
      "\u001b[1m\u001b[30m|   \u001b[1m\u001b[30m\u001b[41m    }\u001b[0m",
      "\u001b[1m\u001b[31mmethod driveForwardMeters(double) is already defined in class CrappyMileCloneCar\u001b[0m",
      "",
      "\u001b[1m\u001b[30m|   \u001b[1m\u001b[30m\u001b[0m\u001b[1m\u001b[30m\u001b[41mpublic class CrappyMileCloneCar implements MileCloneCar {\u001b[0m",
      "\u001b[1m\u001b[30m|   \u001b[1m\u001b[30m\u001b[41m    public static final float CONV = 10f;\u001b[0m",
      "\u001b[1m\u001b[30m|   \u001b[1m\u001b[30m\u001b[41m    \u001b[0m",
      "\u001b[1m\u001b[30m|   \u001b[1m\u001b[30m\u001b[41m    public static double toMeters(double miles) {\u001b[0m",
      "\u001b[1m\u001b[30m|   \u001b[1m\u001b[30m\u001b[41m        return miles * CONV;\u001b[0m",
      "\u001b[1m\u001b[30m|   \u001b[1m\u001b[30m\u001b[41m    }\u001b[0m",
      "\u001b[1m\u001b[30m|   \u001b[1m\u001b[30m\u001b[41m    \u001b[0m",
      "\u001b[1m\u001b[30m|   \u001b[1m\u001b[30m\u001b[41m    protected void driveForwardMeters(double meters) {\u001b[0m",
      "\u001b[1m\u001b[30m|   \u001b[1m\u001b[30m\u001b[41m        System.out.println(\"driveForwardMeters\" + meters);\u001b[0m",
      "\u001b[1m\u001b[30m|   \u001b[1m\u001b[30m\u001b[41m    }\u001b[0m",
      "\u001b[1m\u001b[30m|   \u001b[1m\u001b[30m\u001b[41m    \u001b[0m",
      "\u001b[1m\u001b[30m|   \u001b[1m\u001b[30m\u001b[41m    public double driveForwardMeters(double meters) {\u001b[0m",
      "\u001b[1m\u001b[30m|   \u001b[1m\u001b[30m\u001b[41m        return meters;\u001b[0m",
      "\u001b[1m\u001b[30m|   \u001b[1m\u001b[30m\u001b[41m    }\u001b[0m",
      "\u001b[1m\u001b[30m|   \u001b[1m\u001b[30m\u001b[41m\u001b[0m",
      "\u001b[1m\u001b[30m|   \u001b[1m\u001b[30m\u001b[41m    public void driveForwardMiles(double imperialMiles, double cr) {\u001b[0m",
      "\u001b[1m\u001b[30m|   \u001b[1m\u001b[30m\u001b[41m        driveForwardMeters(toMeters(imperialMiles));\u001b[0m",
      "\u001b[1m\u001b[30m|   \u001b[1m\u001b[30m\u001b[41m    }\u001b[0m",
      "\u001b[1m\u001b[30m|   \u001b[1m\u001b[30m\u001b[41m}\u001b[0m",
      "\u001b[1m\u001b[31mCrappyMileCloneCar is not abstract and does not override abstract method driveForwardMiles(double) in MileCloneCar\u001b[0m",
      "",
      "\u001b[1m\u001b[30m|   \u001b[1m\u001b[30m    \u001b[0m\u001b[1m\u001b[30m\u001b[41mprotected void driveForwardMeters(double meters) {\u001b[0m",
      "\u001b[1m\u001b[30m|   \u001b[1m\u001b[30m\u001b[41m        System.out.println(\"driveForwardMeters\" + meters);\u001b[0m",
      "\u001b[1m\u001b[30m|   \u001b[1m\u001b[30m\u001b[41m    }\u001b[0m",
      "\u001b[1m\u001b[31mdriveForwardMeters(double) in CrappyMileCloneCar cannot implement driveForwardMeters(double) in Car\u001b[0m",
      "\u001b[1m\u001b[31m  attempting to assign weaker access privileges; was public\u001b[0m",
      ""
     ]
    }
   ],
   "source": [
    "public class CrappyMileCloneCar implements MileCloneCar {\n",
    "    public static final float CONV = 10f;\n",
    "    \n",
    "    public static double toMeters(double miles) {\n",
    "        return miles * CONV;\n",
    "    }\n",
    "    \n",
    "    protected void driveForwardMeters(double meters) {\n",
    "        System.out.println(\"driveForwardMeters\" + meters);\n",
    "    }\n",
    "    \n",
    "    public double driveForwardMeters(double meters) {\n",
    "        return meters;\n",
    "    }\n",
    "\n",
    "    public void driveForwardMiles(double imperialMiles, double cr) {\n",
    "        driveForwardMeters(toMeters(imperialMiles));\n",
    "    }\n",
    "}"
   ]
  },
  {
   "cell_type": "code",
   "execution_count": 31,
   "metadata": {},
   "outputs": [],
   "source": [
    "public class AnotherCrappyMileCloneCar implements MileCloneCar {    \n",
    "    public double toMeters(double miles) {\n",
    "        return miles * 123.0;\n",
    "    }\n",
    "    \n",
    "    public void driveForwardMeters(double meters) {\n",
    "        System.out.println(\"driveForwardMeters\" + meters);\n",
    "    }\n",
    "    \n",
    "    public void driveForwardMiles(double miles) {\n",
    "        driveForwardMeters(toMeters(miles));\n",
    "    }\n",
    "}"
   ]
  },
  {
   "cell_type": "code",
   "execution_count": 32,
   "metadata": {},
   "outputs": [],
   "source": [
    "public interface AnotherCar {\n",
    "    default void honk() {\n",
    "        System.out.println(\"honk\");\n",
    "    }\n",
    "}\n",
    "\n",
    "public class DoubleCar implements AnotherCar, MileCloneCar {\n",
    "    public void honk() {\n",
    "        System.out.println(\"double honk\");\n",
    "    }\n",
    "    \n",
    "    public void driveForwardMeters(double meters) {\n",
    "        System.out.println(\"driveForwardMeters\" + meters);\n",
    "    }\n",
    "    \n",
    "    public void driveForwardMiles(double miles) {\n",
    "        driveForwardMeters(MileCloneCar.toMeters(miles));\n",
    "    }\n",
    "}"
   ]
  },
  {
   "cell_type": "markdown",
   "metadata": {},
   "source": [
    "- https://docs.oracle.com/javase/tutorial/java/IandI/QandE/interfaces-questions.html"
   ]
  },
  {
   "cell_type": "markdown",
   "metadata": {},
   "source": [
    "**Inheritance**\n",
    "- Like classes implementing interfaces, classes can \"extend\" other classes in a similar way\n",
    "- public or protected primitives, objects, or methods from the parent class are visible from the child class\n",
    "- https://docs.oracle.com/javase/tutorial/java/javaOO/accesscontrol.html\n",
    "- One class may only extend from one other class, but may implement multiple interfaces\n",
    "- All java objects inherit per default the Object class (show)\n",
    "- http://butunclebob.com/ArticleS.UncleBob.PrinciplesOfOod"
   ]
  },
  {
   "cell_type": "markdown",
   "metadata": {},
   "source": [
    "- https://www.baeldung.com/java-method-overload-override"
   ]
  },
  {
   "cell_type": "markdown",
   "metadata": {},
   "source": [
    "**Enums**\n",
    "- https://docs.oracle.com/javase/tutorial/java/javaOO/enum.html"
   ]
  }
 ],
 "metadata": {
  "kernelspec": {
   "display_name": "Java",
   "language": "java",
   "name": "java"
  },
  "language_info": {
   "codemirror_mode": "java",
   "file_extension": ".jshell",
   "mimetype": "text/x-java-source",
   "name": "Java",
   "pygments_lexer": "java",
   "version": "9+181"
  }
 },
 "nbformat": 4,
 "nbformat_minor": 2
}
