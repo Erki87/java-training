{
 "cells": [
  {
   "cell_type": "markdown",
   "metadata": {},
   "source": [
    "- Schedule\n",
    "- Access to material?\n",
    "- Question: How to start at a Java project?\n",
    "- Recap\n",
    "\n",
    "- Java Book:\n",
    "    - http://openbook.rheinwerk-verlag.de/javainsel/\n",
    "\n",
    "- OCA:\n",
    "    - https://education.oracle.com/de/java-se-8-programmer-i/pexam_1Z0-808\n",
    "\n",
    "- Java Tutorials:\n",
    "    - https://docs.oracle.com/javase/tutorial/\n",
    "\n",
    "- Oracle OCA Prep:\n",
    "    - https://docs.oracle.com/javase/tutorial/extra/certification/javase-8-programmer1.html\n",
    "    \n",
    "- OCA Book:\n",
    "    - https://www.amazon.de/OCA-OCP-Java-Programmer-Certification/dp/1119272092/ref=sr_1_1?__mk_de_DE=%C3%85M%C3%85%C5%BD%C3%95%C3%91\n",
    "\n",
    "- OCA Example Tests:\n",
    "    - https://www.whizlabs.com/ocajp-scja/"
   ]
  },
  {
   "cell_type": "markdown",
   "metadata": {},
   "source": [
    "How does Java work?\n",
    "\t\n",
    "- Paradigm(s)\n",
    "    - imperative, object-oriented, generic, reflective\n",
    "- Standardized\n",
    "    - Yes, Java SE Specifications\n",
    "- Type strength\n",
    "    - strong\n",
    "- Type safety\n",
    "    - safe\n",
    "- Expression of types\n",
    "    - explicit\n",
    "- Type compatibility\n",
    "    - nominative\n",
    "- Type checking\n",
    "    - static\n",
    "- Parameter Passing Methods Available\n",
    "    - by value\n",
    "- Garbage collection\n",
    "    - Yes\n",
    "- Intended use\n",
    "    - Application\n",
    "- Design goals\n",
    "    - Write once run anywhere\n",
    "\n",
    "https://rosettacode.org/wiki/Language_Comparison_Table\n",
    "\n",
    "https://madnight.github.io/githut/#/pull_requests/2019/2\n",
    "\n",
    "https://docs.oracle.com/javase/tutorial/getStarted/intro/definition.html\n",
    "\n",
    "https://docs.oracle.com/javase/tutorial/getStarted/intro/cando.html\n",
    "\n",
    "https://docs.oracle.com/javase/tutorial/getStarted/intro/changemylife.html\n",
    "\n",
    "https://docs.oracle.com/javase/8/docs/"
   ]
  },
  {
   "cell_type": "markdown",
   "metadata": {},
   "source": [
    "**Structure of a Java classes, Sysout**\n",
    "\n",
    "- Explain jupyter notebook vs cmd\n",
    "- Classes are the base building blocks of java"
   ]
  },
  {
   "cell_type": "code",
   "execution_count": 1,
   "metadata": {},
   "outputs": [
    {
     "name": "stdout",
     "output_type": "stream",
     "text": [
      "Overwriting W01D01NB01E01Student.java\n"
     ]
    }
   ],
   "source": [
    "%%file W01D01NB01E01Student.java\n",
    "\n",
    "// hello world test\n",
    "public class W01D01NB01E01Student {\n",
    "    private String name;\n",
    "    private static String name2;\n",
    "    \n",
    "    public String getName() {\n",
    "        return name;\n",
    "    }\n",
    "    \n",
    "    public void setName(String newName) {    \n",
    "        name = newName;\n",
    "    }\n",
    "    \n",
    "    public static void main(String args[]) {\n",
    "        System.out.println(\"Hello World\");\n",
    "    }\n",
    "}"
   ]
  },
  {
   "cell_type": "code",
   "execution_count": 2,
   "metadata": {},
   "outputs": [
    {
     "name": "stdout",
     "output_type": "stream",
     "text": [
      "Hello World\r\n"
     ]
    }
   ],
   "source": [
    "!javac W01D01NB01E01Student.java\n",
    "!java W01D01NB01E01Student"
   ]
  },
  {
   "cell_type": "markdown",
   "metadata": {},
   "source": [
    "Primary Class Elements (Members):\n",
    "- Methods or static\n",
    "- Fields or Class variables"
   ]
  },
  {
   "cell_type": "raw",
   "metadata": {},
   "source": [
    "Comments:\n",
    "\n",
    "// comment until end of line\n",
    "\n",
    "/* Multiple\n",
    "* line comment\n",
    "*/\n",
    "\n",
    "/**\n",
    "* Javadoc multiple-line comment\n",
    "* @author Jeanne and Scott\n",
    "*/\n",
    "\n",
    "https://www.oracle.com/technetwork/articles/java/index-137868.html\n",
    "\n",
    "\n",
    "/* Multiple\n",
    "* /*\n",
    "*  * Multiple\n",
    "*  */\n",
    "*/"
   ]
  },
  {
   "cell_type": "markdown",
   "metadata": {},
   "source": [
    "**Classes and files**\n",
    "\n",
    "Usualy one class per file and class name is the same as file name"
   ]
  },
  {
   "cell_type": "code",
   "execution_count": 3,
   "metadata": {},
   "outputs": [
    {
     "name": "stdout",
     "output_type": "stream",
     "text": [
      "Overwriting W01D01NB01E02Student.java\n"
     ]
    }
   ],
   "source": [
    "%%file W01D01NB01E02Student.java\n",
    "\n",
    "// standard access modifier\n",
    "class W01D01NB01E02Student {\n",
    "    public static void main(String args[]) {\n",
    "        System.out.println(\"Hello World\");\n",
    "    }\n",
    "}"
   ]
  },
  {
   "cell_type": "code",
   "execution_count": 4,
   "metadata": {},
   "outputs": [
    {
     "name": "stdout",
     "output_type": "stream",
     "text": [
      "Hello World\r\n"
     ]
    }
   ],
   "source": [
    "!javac W01D01NB01E02Student.java\n",
    "!java W01D01NB01E02Student"
   ]
  },
  {
   "cell_type": "code",
   "execution_count": 5,
   "metadata": {},
   "outputs": [
    {
     "name": "stdout",
     "output_type": "stream",
     "text": [
      "Overwriting W01D01NB01E03Student.java\n"
     ]
    }
   ],
   "source": [
    "%%file W01D01NB01E03Student.java\n",
    "\n",
    "// public access modifier\n",
    "public class W01D01NB01E03Student {\n",
    "    public static void main(String args[]) {\n",
    "        System.out.println(\"Hello World1\");\n",
    "    }\n",
    "}\n",
    "\n",
    "// standard access modifier\n",
    "class W01D01NB01E03Student2 {\n",
    "    public static void main(String args[]) {\n",
    "        System.out.println(\"Hello World2\");\n",
    "    }\n",
    "}"
   ]
  },
  {
   "cell_type": "code",
   "execution_count": 6,
   "metadata": {},
   "outputs": [
    {
     "name": "stdout",
     "output_type": "stream",
     "text": [
      "Hello World1\n",
      "Hello World2\n"
     ]
    }
   ],
   "source": [
    "!javac W01D01NB01E03Student.java\n",
    "!java W01D01NB01E03Student\n",
    "!java W01D01NB01E03Student2"
   ]
  },
  {
   "cell_type": "code",
   "execution_count": 7,
   "metadata": {},
   "outputs": [
    {
     "name": "stdout",
     "output_type": "stream",
     "text": [
      "Overwriting W01D01NB01E04Student.java\n"
     ]
    }
   ],
   "source": [
    "%%file W01D01NB01E04Student.java\n",
    "\n",
    "class W01D01NB01E04Student {\n",
    "    public static void main(String args[]) {\n",
    "        System.out.println(\"Hello World1\");\n",
    "    }\n",
    "}\n",
    "\n",
    "class W01D01NB01E04Student2 {\n",
    "    public static void main(String args[]) {\n",
    "        System.out.println(\"Hello World2\");\n",
    "    }\n",
    "}\n",
    "\n",
    "class W01D01NB01E04Student3 {\n",
    "    public static void main(String args[]) {\n",
    "        System.out.println(\"Hello World3\");\n",
    "    }\n",
    "}"
   ]
  },
  {
   "cell_type": "code",
   "execution_count": 8,
   "metadata": {},
   "outputs": [
    {
     "name": "stdout",
     "output_type": "stream",
     "text": [
      "Hello World1\n",
      "Hello World2\n",
      "Hello World3\n"
     ]
    }
   ],
   "source": [
    "!javac W01D01NB01E04Student.java\n",
    "!java W01D01NB01E04Student\n",
    "!java W01D01NB01E04Student2\n",
    "!java W01D01NB01E04Student3"
   ]
  },
  {
   "cell_type": "code",
   "execution_count": 9,
   "metadata": {},
   "outputs": [
    {
     "name": "stdout",
     "output_type": "stream",
     "text": [
      "Overwriting W01D01NB01E05Student.java\n"
     ]
    }
   ],
   "source": [
    "%%file W01D01NB01E05Student.java\n",
    "\n",
    "// public access modifier\n",
    "public class W01D01NB01E05Student {\n",
    "    String name;\n",
    "}\n",
    "\n",
    "// public access modifier\n",
    "public class W01D01NB01E05Student2 {\n",
    "    String name;\n",
    "}"
   ]
  },
  {
   "cell_type": "code",
   "execution_count": 10,
   "metadata": {},
   "outputs": [
    {
     "name": "stdout",
     "output_type": "stream",
     "text": [
      "W01D01NB01E05Student.java:8: error: class W01D01NB01E05Student2 is public, should be declared in a file named W01D01NB01E05Student2.java\n",
      "public class W01D01NB01E05Student2 {\n",
      "       ^\n",
      "1 error\n"
     ]
    }
   ],
   "source": [
    "!javac W01D01NB01E05Student.java"
   ]
  },
  {
   "cell_type": "markdown",
   "metadata": {},
   "source": [
    "**Main Method**"
   ]
  },
  {
   "cell_type": "code",
   "execution_count": 11,
   "metadata": {},
   "outputs": [
    {
     "name": "stdout",
     "output_type": "stream",
     "text": [
      "Overwriting W01D01NB01E06Main.java\n"
     ]
    }
   ],
   "source": [
    "%%file W01D01NB01E06Main.java\n",
    "\n",
    "public class W01D01NB01E06Main {    \n",
    "    public static void main(String args[]) {\n",
    "        System.out.println(\"Hello World\");\n",
    "    }\n",
    "}"
   ]
  },
  {
   "cell_type": "code",
   "execution_count": 12,
   "metadata": {},
   "outputs": [
    {
     "name": "stdout",
     "output_type": "stream",
     "text": [
      "Hello World\r\n"
     ]
    }
   ],
   "source": [
    "!javac W01D01NB01E06Main.java\n",
    "!java W01D01NB01E06Main"
   ]
  },
  {
   "cell_type": "code",
   "execution_count": 13,
   "metadata": {},
   "outputs": [
    {
     "name": "stdout",
     "output_type": "stream",
     "text": [
      "Fehler: Hauptklasse W01D01NB01E06Main.class konnte nicht gefunden oder geladen werden\r\n",
      "Ursache: java.lang.ClassNotFoundException: W01D01NB01E06Main.class\r\n"
     ]
    }
   ],
   "source": [
    "!java W01D01NB01E06Main.class"
   ]
  },
  {
   "cell_type": "code",
   "execution_count": 14,
   "metadata": {},
   "outputs": [
    {
     "name": "stdout",
     "output_type": "stream",
     "text": [
      "Overwriting W01D01NB01E07Main.myjava\n"
     ]
    }
   ],
   "source": [
    "%%file W01D01NB01E07Main.myjava\n",
    "\n",
    "public class W01D01NB01E07Main {    \n",
    "    public static void main(String args[]) {\n",
    "        System.out.println(\"Hello World\");\n",
    "    }\n",
    "}"
   ]
  },
  {
   "cell_type": "code",
   "execution_count": 15,
   "metadata": {},
   "outputs": [
    {
     "name": "stdout",
     "output_type": "stream",
     "text": [
      "error: Class names, 'W01D01NB01E07Main.myjava', are only accepted if annotation processing is explicitly requested\r\n",
      "1 error\r\n"
     ]
    }
   ],
   "source": [
    "!javac W01D01NB01E07Main.myjava"
   ]
  },
  {
   "cell_type": "code",
   "execution_count": 16,
   "metadata": {},
   "outputs": [
    {
     "name": "stdout",
     "output_type": "stream",
     "text": [
      "Overwriting W01D01NB01E08Main\n"
     ]
    }
   ],
   "source": [
    "%%file W01D01NB01E08Main\n",
    "\n",
    "public class W01D01NB01E06Main {    \n",
    "    public static void main(String args[]) {\n",
    "        System.out.println(\"Hello World\");\n",
    "    }\n",
    "}"
   ]
  },
  {
   "cell_type": "code",
   "execution_count": 17,
   "metadata": {},
   "outputs": [
    {
     "name": "stdout",
     "output_type": "stream",
     "text": [
      "error: Class names, 'W01D01NB01E08Main', are only accepted if annotation processing is explicitly requested\r\n",
      "1 error\r\n"
     ]
    }
   ],
   "source": [
    "!javac W01D01NB01E08Main"
   ]
  },
  {
   "cell_type": "markdown",
   "metadata": {},
   "source": [
    "Rule of thumb:\n",
    "- Each file contains only one class.\n",
    "- Filename case matches class name and file has .java extension"
   ]
  },
  {
   "cell_type": "code",
   "execution_count": 18,
   "metadata": {},
   "outputs": [
    {
     "name": "stdout",
     "output_type": "stream",
     "text": [
      "Overwriting W01D01NB01E08Main.java\n"
     ]
    }
   ],
   "source": [
    "%%file W01D01NB01E08Main.java\n",
    "\n",
    "public class W01D01NB01E08Main {\n",
    "    public static void main(String args[]) {\n",
    "        System.out.println(args[0]);\n",
    "        System.out.println(args[1]);\n",
    "    }\n",
    "}"
   ]
  },
  {
   "cell_type": "markdown",
   "metadata": {},
   "source": [
    "- access modifier\n",
    "- non access modifier\n",
    "- return type\n",
    "- parameter(s)"
   ]
  },
  {
   "cell_type": "code",
   "execution_count": 19,
   "metadata": {},
   "outputs": [
    {
     "name": "stdout",
     "output_type": "stream",
     "text": [
      "Eins\r\n",
      "Zwei\r\n"
     ]
    }
   ],
   "source": [
    "!javac W01D01NB01E08Main.java\n",
    "!java W01D01NB01E08Main Eins Zwei"
   ]
  },
  {
   "cell_type": "code",
   "execution_count": 20,
   "metadata": {},
   "outputs": [],
   "source": [
    "#!java W01D01NB01E08Main Eins Zwei Drei\n",
    "#!java W01D01NB01E08Main \"Eins Zwei\" Drei\n",
    "#!java W01D01NB01E08Main Eins"
   ]
  },
  {
   "cell_type": "markdown",
   "metadata": {},
   "source": [
    "**Java Packages**\n",
    "\n",
    "- Class are organzied within packages\n",
    "- Resolving class name conflicts\n",
    "- \"Unnamed\" is default package\n",
    "- Classes and packages can be imported\n",
    "- Multiple classes can be imported using wildcards (eg com.accenture.*)\n",
    "- Foreign (another package) classes/packages need to be imported or fqn needs to be used\n",
    "- Example com.accenture.mypackage\n",
    "- Packages are hierarchical\n",
    "- java and javax belog usually to jdk\n",
    "- Package name has same format as variable names (later)"
   ]
  },
  {
   "cell_type": "code",
   "execution_count": 21,
   "metadata": {},
   "outputs": [
    {
     "name": "stdout",
     "output_type": "stream",
     "text": [
      "Overwriting W01D01NB01E09Import.java\n"
     ]
    }
   ],
   "source": [
    "%%file W01D01NB01E09Import.java\n",
    "\n",
    "public class W01D01NB01E09Import {\n",
    "    public static void main(String[] args) {\n",
    "        Random r = new Random();\n",
    "        System.out.println(r.nextInt(10));\n",
    "    }\n",
    "}"
   ]
  },
  {
   "cell_type": "code",
   "execution_count": 22,
   "metadata": {},
   "outputs": [
    {
     "name": "stdout",
     "output_type": "stream",
     "text": [
      "W01D01NB01E09Import.java:4: error: cannot find symbol\n",
      "        Random r = new Random();\n",
      "        ^\n",
      "  symbol:   class Random\n",
      "  location: class W01D01NB01E09Import\n",
      "W01D01NB01E09Import.java:4: error: cannot find symbol\n",
      "        Random r = new Random();\n",
      "                       ^\n",
      "  symbol:   class Random\n",
      "  location: class W01D01NB01E09Import\n",
      "2 errors\n"
     ]
    }
   ],
   "source": [
    "!javac W01D01NB01E09Import.java"
   ]
  },
  {
   "cell_type": "code",
   "execution_count": 23,
   "metadata": {},
   "outputs": [
    {
     "name": "stdout",
     "output_type": "stream",
     "text": [
      "Overwriting W01D01NB01E09Import2.java\n"
     ]
    }
   ],
   "source": [
    "%%file W01D01NB01E09Import2.java\n",
    "\n",
    "import java.util.*;\n",
    "\n",
    "public class W01D01NB01E09Import2 {\n",
    "    public static void main(String[] args) {\n",
    "        Random r = new Random();\n",
    "        System.out.println(r.nextInt(10));\n",
    "    }\n",
    "}"
   ]
  },
  {
   "cell_type": "code",
   "execution_count": 24,
   "metadata": {},
   "outputs": [
    {
     "name": "stdout",
     "output_type": "stream",
     "text": [
      "9\r\n"
     ]
    }
   ],
   "source": [
    "!javac W01D01NB01E09Import2.java\n",
    "!java W01D01NB01E09Import2"
   ]
  },
  {
   "cell_type": "code",
   "execution_count": 25,
   "metadata": {},
   "outputs": [
    {
     "name": "stdout",
     "output_type": "stream",
     "text": [
      "Overwriting W01D01NB01E09Import3.java\n"
     ]
    }
   ],
   "source": [
    "%%file W01D01NB01E09Import3.java\n",
    "\n",
    "public class W01D01NB01E09Import3 {\n",
    "    public static void main(String[] args) {\n",
    "        java.util.Random r = new java.util.Random();\n",
    "        System.out.println(r.nextInt(10));\n",
    "    }\n",
    "}"
   ]
  },
  {
   "cell_type": "code",
   "execution_count": 26,
   "metadata": {},
   "outputs": [
    {
     "name": "stdout",
     "output_type": "stream",
     "text": [
      "2\r\n"
     ]
    }
   ],
   "source": [
    "!javac W01D01NB01E09Import3.java\n",
    "!java W01D01NB01E09Import3"
   ]
  },
  {
   "cell_type": "code",
   "execution_count": 27,
   "metadata": {},
   "outputs": [
    {
     "name": "stdout",
     "output_type": "stream",
     "text": [
      "Writing W01D01NB01E10Import.java\n"
     ]
    }
   ],
   "source": [
    "%%file W01D01NB01E10Import.java\n",
    "\n",
    "package W01D01NB01E10;\n",
    "\n",
    "import java.lang.System; // redundant?\n",
    "import java.lang.*; // redundant?\n",
    "import java.util.Random; // redundant?\n",
    "import java.util.*; // redundant?\n",
    "import W01D01NB01E10.*; // redundant?\n",
    "\n",
    "public class W01D01NB01E10Import {\n",
    "    public static void main(String[] args) {\n",
    "        Random r = new Random();\n",
    "        System.out.println(r.nextInt(10));\n",
    "    }\n",
    "}"
   ]
  },
  {
   "cell_type": "code",
   "execution_count": 28,
   "metadata": {},
   "outputs": [
    {
     "name": "stdout",
     "output_type": "stream",
     "text": [
      "1\r\n"
     ]
    }
   ],
   "source": [
    "!javac W01D01NB01E10/W01D01NB01E10Import.java #attention\n",
    "!java W01D01NB01E10.W01D01NB01E10Import #attention"
   ]
  },
  {
   "cell_type": "code",
   "execution_count": 29,
   "metadata": {},
   "outputs": [
    {
     "name": "stdout",
     "output_type": "stream",
     "text": [
      "Overwriting W01D01NB01E11Conflict.java\n"
     ]
    }
   ],
   "source": [
    "%%file W01D01NB01E11Conflict.java\n",
    "\n",
    "import java.util.*;\n",
    "import java.sql.*;\n",
    "\n",
    "public class W01D01NB01E11Conflict {\n",
    "    Date d; // And without? How to prevent?\n",
    "    \n",
    "    public static void main(String[] args) {\n",
    "        Random r = new Random();\n",
    "        System.out.println(r.nextInt(10));\n",
    "    }\n",
    "}"
   ]
  },
  {
   "cell_type": "code",
   "execution_count": 30,
   "metadata": {},
   "outputs": [
    {
     "name": "stdout",
     "output_type": "stream",
     "text": [
      "W01D01NB01E11Conflict.java:6: error: reference to Date is ambiguous\n",
      "    Date d; // And without? How to prevent?\n",
      "    ^\n",
      "  both class java.sql.Date in java.sql and class java.util.Date in java.util match\n",
      "1 error\n",
      "6\n"
     ]
    }
   ],
   "source": [
    "!javac W01D01NB01E11Conflict.java\n",
    "!java W01D01NB01E11Conflict"
   ]
  },
  {
   "cell_type": "code",
   "execution_count": 31,
   "metadata": {},
   "outputs": [],
   "source": [
    "!rm -r packagea\n",
    "!rm -r packageb\n",
    "!mkdir packagea\n",
    "!mkdir packageb"
   ]
  },
  {
   "cell_type": "code",
   "execution_count": 32,
   "metadata": {},
   "outputs": [
    {
     "name": "stdout",
     "output_type": "stream",
     "text": [
      "Writing packagea/W01D01NB01E12ClassA.java\n"
     ]
    }
   ],
   "source": [
    "%%file packagea/W01D01NB01E12ClassA.java\n",
    "\n",
    "package packagea;\n",
    "\n",
    "import java.util.*;\n",
    "\n",
    "public class W01D01NB01E12ClassA {    \n",
    "    public static void main(String[] args) {\n",
    "        Random r = new Random();\n",
    "        System.out.println(r.nextInt(10));\n",
    "    }\n",
    "}"
   ]
  },
  {
   "cell_type": "code",
   "execution_count": 33,
   "metadata": {},
   "outputs": [
    {
     "name": "stdout",
     "output_type": "stream",
     "text": [
      "Writing packageb/W01D01NB01E12ClassB.java\n"
     ]
    }
   ],
   "source": [
    "%%file packageb/W01D01NB01E12ClassB.java\n",
    "\n",
    "package packageb;\n",
    "\n",
    "import java.util.*;\n",
    "\n",
    "public class W01D01NB01E12ClassB {    \n",
    "    public static void main(String[] args) {\n",
    "        Random r = new Random();\n",
    "        System.out.println(r.nextInt(10));\n",
    "    }\n",
    "}"
   ]
  },
  {
   "cell_type": "code",
   "execution_count": 34,
   "metadata": {},
   "outputs": [
    {
     "name": "stdout",
     "output_type": "stream",
     "text": [
      "W01D01NB01E12ClassA.java\n",
      "W01D01NB01E12ClassB.java\n",
      "W01D01NB01E12ClassA.class  W01D01NB01E12ClassA.java\n",
      "W01D01NB01E12ClassB.class  W01D01NB01E12ClassB.java\n",
      "4\n",
      "1\n"
     ]
    }
   ],
   "source": [
    "!ls packagea\n",
    "!ls packageb\n",
    "!javac packagea/W01D01NB01E12ClassA.java packageb/W01D01NB01E12ClassB.java\n",
    "!ls packagea\n",
    "!ls packageb\n",
    "!java packagea.W01D01NB01E12ClassA\n",
    "!java packageb.W01D01NB01E12ClassB"
   ]
  },
  {
   "cell_type": "markdown",
   "metadata": {},
   "source": [
    "Questions:\n",
    "- https://docs.oracle.com/javase/tutorial/java/package/QandE/packages-questions.html"
   ]
  },
  {
   "cell_type": "markdown",
   "metadata": {},
   "source": [
    "**Commandline**\n",
    "\n",
    "- javac\n",
    "- java\n",
    "- jar"
   ]
  },
  {
   "cell_type": "code",
   "execution_count": 35,
   "metadata": {},
   "outputs": [
    {
     "name": "stdout",
     "output_type": "stream",
     "text": [
      "Manifest wurde hinzugefügt\n",
      "packagea/W01D01NB01E12ClassA.class wird hinzugefügt(ein = 488) (aus = 346)(29 % verkleinert)\n",
      "\n",
      "3\n"
     ]
    }
   ],
   "source": [
    "!jar -cvf W01D01NB01E13.jar packagea/W01D01NB01E12ClassA.class\n",
    "#!rm packagea/W01D01NB01E12ClassA.class\n",
    "!echo \"\"\n",
    "#!java packagea.W01D01NB01E12ClassA\n",
    "#!echo \"\"\n",
    "#!java -cp W01D01NB01E13.jar packagea.W01D01NB01E12ClassA\n",
    "#!echo \"\"\n",
    "# on windows use ; to concat paths\n",
    "!java -cp \".:W01D01NB01E13.jar:*.jar\" packagea.W01D01NB01E12ClassA"
   ]
  },
  {
   "cell_type": "code",
   "execution_count": 36,
   "metadata": {},
   "outputs": [
    {
     "name": "stdout",
     "output_type": "stream",
     "text": [
      "env: CLASSPATH=\n",
      "\n",
      "\n",
      "6\n"
     ]
    }
   ],
   "source": [
    "#execute in cmd\n",
    "%env CLASSPATH=\n",
    "!echo $CLASSPATH\n",
    "#!export CLASSPATH=\"W01D01NB01E13.jar\"\n",
    "#%env CLASSPATH=\"W01D01NB01E13.jar\"\n",
    "!echo $CLASSPATH\n",
    "!java packagea.W01D01NB01E12ClassA"
   ]
  },
  {
   "cell_type": "markdown",
   "metadata": {},
   "source": [
    "https://docs.oracle.com/javase/8/docs/technotes/tools/findingclasses.html"
   ]
  },
  {
   "cell_type": "markdown",
   "metadata": {},
   "source": [
    "**Maven Intro**\n",
    "\n",
    "https://maven.apache.org/what-is-maven.html\n",
    "\n",
    "https://maven.apache.org/guides/getting-started/maven-in-five-minutes.html\n",
    "\n",
    "https://maven.apache.org/guides/getting-started/index.html"
   ]
  },
  {
   "cell_type": "markdown",
   "metadata": {},
   "source": [
    "**Intro to Eclipse**\n",
    "\n",
    "- https://www.vogella.com/tutorials/Eclipse/article.html\n",
    "- Formatting and save actions"
   ]
  },
  {
   "cell_type": "markdown",
   "metadata": {},
   "source": [
    "**What is object orientation?**\n",
    "\n",
    "- Hard to understand at this point\n",
    "- https://docs.oracle.com/javase/tutorial/java/concepts/index.html\n",
    "- Concepts\n",
    "    - Association\n",
    "    - Aggregation\n",
    "    - Composition\n",
    "    - Abstraction\n",
    "    - Encapsulation\n",
    "    - Inheritance\n",
    "    - Polymorphism\n",
    "- https://docs.oracle.com/javase/tutorial/java/concepts/QandE/questions.html"
   ]
  },
  {
   "cell_type": "code",
   "execution_count": null,
   "metadata": {},
   "outputs": [],
   "source": []
  }
 ],
 "metadata": {
  "kernelspec": {
   "display_name": "Python 3",
   "language": "python",
   "name": "python3"
  },
  "language_info": {
   "codemirror_mode": {
    "name": "ipython",
    "version": 3
   },
   "file_extension": ".py",
   "mimetype": "text/x-python",
   "name": "python",
   "nbconvert_exporter": "python",
   "pygments_lexer": "ipython3",
   "version": "3.7.6"
  }
 },
 "nbformat": 4,
 "nbformat_minor": 2
}
