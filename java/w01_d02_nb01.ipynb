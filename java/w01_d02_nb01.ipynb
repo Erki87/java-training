{
 "cells": [
  {
   "cell_type": "markdown",
   "metadata": {},
   "source": [
    "**OOP First**\n",
    "\n",
    "- https://docs.oracle.com/javase/tutorial/java/concepts/index.html\n",
    "- Concepts\n",
    "    - Association\n",
    "    - Aggregation\n",
    "    - Composition\n",
    "    - Abstraction\n",
    "    - Encapsulation\n",
    "    - Inheritance (later)\n",
    "    - Polymorphism (later)\n",
    "- https://www.geeksforgeeks.org/association-composition-aggregation-java/\n",
    "- https://www.coursera.org/lecture/object-oriented-design/1-2-4-encapsulation-cFBE5\n",
    "- https://docs.oracle.com/javase/tutorial/java/concepts/QandE/questions.html\n",
    "\n",
    "\n",
    "**Intro to Git**\n",
    "\n",
    "- https://www.youtube.com/watch?v=kmGsHjQ2wsY&list=PLYQSCk-qyTW3lX_dyw0R2eVzNGB3Tlv9S\n",
    "- https://www.atlassian.com/git/tutorials/atlassian-git-cheatsheet"
   ]
  },
  {
   "cell_type": "markdown",
   "metadata": {},
   "source": [
    "**Basic classes: Variable Initialization**"
   ]
  },
  {
   "cell_type": "code",
   "execution_count": 1,
   "metadata": {},
   "outputs": [
    {
     "name": "stdout",
     "output_type": "stream",
     "text": [
      "-1186338896\n",
      "575813808\n"
     ]
    }
   ],
   "source": [
    "//explain type, reference, constructor\n",
    "int i = 5;\n",
    "Random r = new Random();\n",
    "System.out.println(r.nextInt());\n",
    "System.out.println(r.nextInt());"
   ]
  },
  {
   "cell_type": "code",
   "execution_count": 2,
   "metadata": {},
   "outputs": [
    {
     "name": "stdout",
     "output_type": "stream",
     "text": [
      "constructor\n"
     ]
    }
   ],
   "source": [
    "//explain fields, constructor, methods, naming\n",
    "public class Student {\n",
    "\n",
    "    String firstName;\n",
    "    String lastName;\n",
    "    String fullName;\n",
    "\n",
    "    public Student() {\n",
    "        firstName = \"first\";\n",
    "        lastName = \"last\";\n",
    "        \n",
    "        System.out.println(\"constructor\");\n",
    "    }\n",
    "    \n",
    "    // no constructor\n",
    "    public void Student() {\n",
    "    \n",
    "    }\n",
    "}\n",
    "\n",
    "Student cd = new Student();\n",
    "cd.Student();"
   ]
  },
  {
   "cell_type": "markdown",
   "metadata": {},
   "source": [
    "- Constructors are called when a new object is created\n",
    "- Constructors are used to init fields\n",
    "- Constructors do not have a return type\n",
    "- Constructors have same name as class, always upper case\n",
    "- Methods start usually with lower case\n",
    "- If no constructor is provided, the compiler will provide a default constructor (more later)"
   ]
  },
  {
   "cell_type": "code",
   "execution_count": 3,
   "metadata": {},
   "outputs": [
    {
     "name": "stdout",
     "output_type": "stream",
     "text": [
      "constructor\n",
      "Hans\n",
      "constructor\n",
      "null\n"
     ]
    }
   ],
   "source": [
    "Student s1 = new Student();\n",
    "s1.firstName = \"Hans\"; //write\n",
    "s1.lastName = \"Peter\";\n",
    "System.out.println(s1.firstName); //read\n",
    "\n",
    "//s1.fullName = s1.firstName + \" \" + s1.lastName; //read + write\n",
    "//System.out.println(s1.fullName);\n",
    "\n",
    "s1 = new Student(); // test overwrite\n",
    "System.out.println(s1.fullName);"
   ]
  },
  {
   "cell_type": "code",
   "execution_count": 4,
   "metadata": {},
   "outputs": [
    {
     "name": "stdout",
     "output_type": "stream",
     "text": [
      "Feathers\n",
      "5\n"
     ]
    }
   ],
   "source": [
    "public class StudentInit {\n",
    "\n",
    "    String name = \"\"; // field initializer\n",
    "    \n",
    "    { // instance initializer\n",
    "        name = \"init\";\n",
    "        System.out.println(\"instance initializer\");\n",
    "    }\n",
    "    \n",
    "    String nameDummy = name;\n",
    "        \n",
    "    public StudentInit(String a) {\n",
    "        name = name + a;\n",
    "        System.out.println(\"constructor 1\");\n",
    "    }\n",
    "    \n",
    "    public StudentInit(String a, String b) {\n",
    "        name = name + a + b;\n",
    "        System.out.println(\"constructor 2\");\n",
    "    }\n",
    "    \n",
    "    public static void main(String[] args) {\n",
    "        { // code block\n",
    "            int a = 5;\n",
    "            System.out.println(\"Feathers\");\n",
    "            \n",
    "            System.out.println(a);\n",
    "        }\n",
    "        \n",
    "        int a = 5;\n",
    "    }\n",
    "}\n",
    "\n",
    "//System.out.println(new StudentInit().name);\n",
    "//System.out.println(new StudentInit(\"a\").name);\n",
    "//System.out.println(new StudentInit(\"b\", \"c\").name);\n",
    "\n",
    "//System.out.println(new StudentInit(\"a\").nameDummy);\n",
    "StudentInit.main(null);"
   ]
  },
  {
   "cell_type": "markdown",
   "metadata": {},
   "source": [
    "- Instance initializer are useful if multiple constructors are present\n",
    "- Code blocks are opened by \"{\" and closed by \"}\"\n",
    "- How many code blocks are in the example?\n",
    "- Order of initalization\n",
    "    - Field and instance initializers are initialized according to order in file\n",
    "    - Constructor runs after field and instance initializers\n",
    "- What happens if a field is used before it has been initialized?"
   ]
  },
  {
   "cell_type": "code",
   "execution_count": 5,
   "metadata": {},
   "outputs": [
    {
     "name": "stdout",
     "output_type": "stream",
     "text": [
      "1\n"
     ]
    }
   ],
   "source": [
    "//what value is printed?\n",
    "public class InitTest {\n",
    "    public InitTest() {\n",
    "        count = 1;\n",
    "    }\n",
    "    \n",
    "    int count = 2;\n",
    "    \n",
    "    {\n",
    "        count = 3;\n",
    "    }\n",
    "}\n",
    "\n",
    "System.out.println(new InitTest().count);"
   ]
  },
  {
   "cell_type": "markdown",
   "metadata": {},
   "source": [
    "**Primitive Variables versus Object references, What is a type?**\n",
    "\n",
    "- https://www.w3schools.com/java/java_data_types.asp\n",
    "- https://docs.oracle.com/javase/tutorial/java/nutsandbolts/datatypes.html\n",
    "- Primitives do not implement any methods\n",
    "- Primitives cannot be null"
   ]
  },
  {
   "cell_type": "code",
   "execution_count": 6,
   "metadata": {},
   "outputs": [
    {
     "name": "stdout",
     "output_type": "stream",
     "text": [
      "-2147483648\n",
      "2147483647\n",
      "-9223372036854775808\n",
      "9223372036854775807\n"
     ]
    }
   ],
   "source": [
    "// Detailed usage of capital case \"primitives\" is explained later\n",
    "\n",
    "System.out.println(Integer.MIN_VALUE);\n",
    "System.out.println(Integer.MAX_VALUE);\n",
    "System.out.println(Long.MIN_VALUE);\n",
    "System.out.println(Long.MAX_VALUE);\n",
    "    \n",
    "/*System.out.println(Float.MIN_VALUE);\n",
    "System.out.println(Float.MAX_VALUE);\n",
    "System.out.println(Double.MIN_VALUE);\n",
    "System.out.println(Double.MAX_VALUE);\n",
    "System.out.println(Long.MIN_VALUE);\n",
    "System.out.println(Long.MAX_VALUE);*/\n",
    "\n",
    "\n",
    "long a = 3123456789L;\n",
    "//long b = 3123456789L; //3123456789l\n",
    "//System.out.println(b);"
   ]
  },
  {
   "cell_type": "code",
   "execution_count": 7,
   "metadata": {},
   "outputs": [
    {
     "name": "stdout",
     "output_type": "stream",
     "text": [
      "56\n",
      "3\n",
      "15\n",
      "31\n"
     ]
    }
   ],
   "source": [
    "System.out.println(56); // 56 dec 10⁰ * 6 + 10¹ * 5 = 56\n",
    "System.out.println(0b11); // 3 bin 2⁰ * 1 + 2¹ *1 = 3\n",
    "System.out.println(017); // 15 oct 8⁰ * 7 + 8¹ * 1 = 15\n",
    "System.out.println(0x1F); // 31 hex 16⁰ * 15 + 16¹ * 1 = 31"
   ]
  },
  {
   "cell_type": "code",
   "execution_count": 8,
   "metadata": {},
   "outputs": [],
   "source": [
    "int million1 = 1000000;\n",
    "int million2 = 1_000_000;\n",
    "//double notAtStart = _1000.00; // DOES NOT COMPILE\n",
    "//double notAtEnd = 1000.00_; // DOES NOT COMPILE\n",
    "//double notByDecimal = 1000_.00; // DOES NOT COMPILE\n",
    "//double notByDecimal = 1000._00; // DOES NOT COMPILE\n",
    "double legal = 1_00_0.0_0; // this one compiles "
   ]
  },
  {
   "cell_type": "markdown",
   "metadata": {},
   "source": [
    "**If there is time lets talk about operators, because it is missing in the schedule**\n",
    "- https://docs.oracle.com/javase/tutorial/java/nutsandbolts/operators.html"
   ]
  },
  {
   "cell_type": "code",
   "execution_count": 9,
   "metadata": {},
   "outputs": [
    {
     "name": "stdout",
     "output_type": "stream",
     "text": [
      "1\n"
     ]
    }
   ],
   "source": [
    "int x = 0;\n",
    "x += 1; // x = x + 1; x++; ++x;\n",
    "\n",
    "System.out.println(x);"
   ]
  },
  {
   "cell_type": "code",
   "execution_count": 10,
   "metadata": {},
   "outputs": [
    {
     "name": "stdout",
     "output_type": "stream",
     "text": [
      "null\n",
      "r=0\n",
      "r=2\n",
      "r=2\n",
      "r=3\n",
      "r=3\n"
     ]
    }
   ],
   "source": [
    "//explain references\n",
    "public class RefTest {\n",
    "    int a;\n",
    "}\n",
    "\n",
    "// reference tyes (pointers to object in heap)\n",
    "// all classes including String\n",
    "RefTest r; // null reference\n",
    "System.out.println(r);\n",
    "\n",
    "RefTest r1 = new RefTest(); // points to new String in memory\n",
    "System.out.println(\"r=\" + r1.a);\n",
    "\n",
    "RefTest r2 = new RefTest();\n",
    "r2.a = 2;\n",
    "System.out.println(\"r=\" + r2.a);\n",
    "\n",
    "RefTest r3 = r2;\n",
    "System.out.println(\"r=\" + r3.a); // points to r2 String\n",
    "\n",
    "r3.a = 3;\n",
    "\n",
    "System.out.println(\"r=\" + r2.a);\n",
    "System.out.println(\"r=\" + r3.a);\n",
    "\n",
    "//System.out.println(\"r=\" + r.a);\n",
    "//int a = null;"
   ]
  },
  {
   "cell_type": "code",
   "execution_count": 11,
   "metadata": {},
   "outputs": [],
   "source": [
    "int a; // declaration\n",
    "a = 2; // assignment/init\n",
    "int f = 4; // declaration + assignment one line\n",
    "int b, c; // multi declaration\n",
    "b = 1; // assignment/init\n",
    "c = 2; // assignment/init\n",
    "int d = 1, e = 3; // muti declaration + assignment one line"
   ]
  },
  {
   "cell_type": "code",
   "execution_count": 12,
   "metadata": {},
   "outputs": [
    {
     "ename": "CompilationException",
     "evalue": "",
     "output_type": "error",
     "traceback": [
      "\u001b[1m\u001b[30m|   \u001b[1m\u001b[30mString s1,\u001b[0m\u001b[1m\u001b[30m\u001b[41m\u001b[0m\u001b[1m\u001b[30m int i4;\u001b[0m",
      "\u001b[1m\u001b[31m<identifier> expected\u001b[0m",
      ""
     ]
    }
   ],
   "source": [
    "int i1, i2, i3 = 4;\n",
    "String s1, int i4; // diffrent types do no work\n",
    "i4 = 5;"
   ]
  },
  {
   "cell_type": "markdown",
   "metadata": {},
   "source": [
    "Variable identifiers\n",
    "\n",
    "- Begin with a letter or $ or _\n",
    "- Subsequent numbers are allowed too\n",
    "- No keywords allowed\n",
    "    - https://www.javatpoint.com/java-keywords\n",
    "- Case sensitive"
   ]
  },
  {
   "cell_type": "code",
   "execution_count": 13,
   "metadata": {},
   "outputs": [
    {
     "ename": "CompilationException",
     "evalue": "",
     "output_type": "error",
     "traceback": [
      "\u001b[1m\u001b[30m|   \u001b[1m\u001b[30mint hollywood\u001b[0m\u001b[1m\u001b[30m\u001b[41m@vine\u001b[0m\u001b[1m\u001b[30m;\u001b[0m",
      "\u001b[1m\u001b[31millegal start of type\u001b[0m",
      ""
     ]
    }
   ],
   "source": [
    "//What do you thik will work?\n",
    "int __Sasdasd$; //ok\n",
    "int identifier; //ok\n",
    "int hollywood@vine; //nok\n",
    "int $2Identifier; //ok\n",
    "int Class; //ok\n",
    "int 3DPointClass; //nok\n",
    "int *$coffee; //nok\n",
    "int _1d3ntifi3r; //ok\n",
    "int public; //nok"
   ]
  },
  {
   "cell_type": "markdown",
   "metadata": {},
   "source": [
    "- General Java naming conventions\n",
    "- https://www.oreilly.com/library/view/java-8-pocket/9781491901083/ch01.html"
   ]
  },
  {
   "cell_type": "code",
   "execution_count": 14,
   "metadata": {},
   "outputs": [
    {
     "ename": "CompilationException",
     "evalue": "",
     "output_type": "error",
     "traceback": [
      "\u001b[1m\u001b[30m|   \u001b[1m\u001b[30m        int result = x + \u001b[0m\u001b[1m\u001b[30m\u001b[41my\u001b[0m\u001b[1m\u001b[30m;\u001b[0m",
      "\u001b[1m\u001b[31mvariable y might not have been initialized\u001b[0m",
      ""
     ]
    }
   ],
   "source": [
    "//explain local vars and local vars need to be initalized\n",
    "public class LocalVars {\n",
    "    public int bad() {\n",
    "        int x = 10;\n",
    "        int y;\n",
    "        int result = x + y;\n",
    "        return result;\n",
    "    }\n",
    "}"
   ]
  },
  {
   "cell_type": "code",
   "execution_count": 15,
   "metadata": {},
   "outputs": [],
   "source": [
    "public class LocalVars2 {\n",
    "    public int bad() {\n",
    "        int x = 10;\n",
    "        int y;\n",
    "        \n",
    "        if(x == 10) {\n",
    "            y = 0; // compiler checks branching statements\n",
    "        } else {\n",
    "            x = 10; // compiler checks branching statements\n",
    "            y = 0;\n",
    "        }\n",
    "        \n",
    "        int result = x + y;\n",
    "        return result;\n",
    "    }\n",
    "}"
   ]
  },
  {
   "cell_type": "code",
   "execution_count": 16,
   "metadata": {},
   "outputs": [
    {
     "name": "stdout",
     "output_type": "stream",
     "text": [
      "0\n",
      "3\n",
      "4\n"
     ]
    }
   ],
   "source": [
    "//explain instanceVar vs classVar\n",
    "public class InstClassVars {\n",
    "    int instanceVar;\n",
    "    static int classVar;\n",
    "    //int classVar; // does not work\n",
    "    \n",
    "    public int good() {\n",
    "        return instanceVar + classVar;\n",
    "    }\n",
    "}\n",
    "\n",
    "InstClassVars icv = new InstClassVars();\n",
    "System.out.println(icv.good());\n",
    "\n",
    "InstClassVars.classVar = 1; // access by classname\n",
    "icv.classVar = 1; // access by object name\n",
    "\n",
    "icv.instanceVar = 2;\n",
    "System.out.println(icv.good());\n",
    "\n",
    "InstClassVars icv2 = new InstClassVars();\n",
    "icv2.instanceVar = 3;\n",
    "System.out.println(icv2.good());"
   ]
  },
  {
   "cell_type": "markdown",
   "metadata": {},
   "source": [
    "- http://www.c4learn.com/java/java-default-values/"
   ]
  },
  {
   "cell_type": "markdown",
   "metadata": {},
   "source": [
    "**Questions**\n",
    "- https://docs.oracle.com/javase/tutorial/java/javaOO/QandE/creating-questions.html"
   ]
  },
  {
   "cell_type": "code",
   "execution_count": 17,
   "metadata": {},
   "outputs": [
    {
     "ename": "CompilationException",
     "evalue": "",
     "output_type": "error",
     "traceback": [
      "\u001b[1m\u001b[30m|   \u001b[1m\u001b[30m            \u001b[0m\u001b[1m\u001b[30m\u001b[41mint myVar = 3;\u001b[0m\u001b[1m\u001b[30m\u001b[0m",
      "\u001b[1m\u001b[31mvariable myVar is already defined in method socpe2(int)\u001b[0m",
      "",
      "\u001b[1m\u001b[30m|   \u001b[1m\u001b[30m        return \u001b[0m\u001b[1m\u001b[30m\u001b[41minnerVar\u001b[0m\u001b[1m\u001b[30m; // does not work\u001b[0m",
      "\u001b[1m\u001b[31mcannot find symbol\u001b[0m",
      "\u001b[1m\u001b[31m  symbol:   variable innerVar\u001b[0m",
      ""
     ]
    }
   ],
   "source": [
    "//explain scope of vars\n",
    "public class ScopeTest {\n",
    "    int instanceVar; // lives as long as the object (gc)\n",
    "    static int classVar;  // lives during the whole program\n",
    "    \n",
    "    public int socpe(int param) { // lives until code block goes out of scope\n",
    "        int myVar = 1; // lives until code block goes out of scope\n",
    "        \n",
    "        return myVar;\n",
    "    }\n",
    "    \n",
    "    public int socpe2(int param) {\n",
    "        int myVar = 1;\n",
    "        \n",
    "        if(param > 1) { // also try code block\n",
    "            int innerVar = myVar + 2;\n",
    "            int myVar = 3;\n",
    "        }\n",
    "        \n",
    "        return innerVar; // does not work\n",
    "    }\n",
    "\n",
    "}\n",
    "\n",
    "System.out.println(new ScopeTest().socpe2(2));"
   ]
  },
  {
   "cell_type": "code",
   "execution_count": 18,
   "metadata": {},
   "outputs": [],
   "source": [
    "// answer questions below\n",
    "public class ScopeTest2 {\n",
    "    static int MAX_LENGTH = 5;\n",
    "    int length;\n",
    "    public void grow(int inches) {\n",
    "\n",
    "        if (length < MAX_LENGTH) {\n",
    "            int newSize = length + inches;\n",
    "            length = newSize;\n",
    "        }\n",
    "    }\n",
    "}\n",
    "\n",
    "// classvar, instvar, local, params\n",
    "// dec + init: MAX_LENGTH, newSize, inches\n",
    "// dec: length\n",
    "// init: length\n",
    "\n",
    "// MAX_LENGTH out of scope when the program ends\n",
    "// newSize after if\n",
    "// inches after grow\n",
    "// length when object is gc"
   ]
  },
  {
   "cell_type": "markdown",
   "metadata": {},
   "source": [
    "- What kind of variables are present?\n",
    "- Where are the variables declared and initialized?\n",
    "- When do they go out of scope?"
   ]
  },
  {
   "cell_type": "markdown",
   "metadata": {},
   "source": [
    "Ordering of class elements\n",
    "\n",
    "- Package declaration (optional)\n",
    "    - First line\n",
    "- Import statements (optional)\n",
    "    - After package\n",
    "- Class declaration (required)\n",
    "    - After import\n",
    "- Field declarations (optional)\n",
    "    - Anywhere in class\n",
    "- Method declarations (optional)\n",
    "    - Anywhere in class\n",
    "    \n",
    "Todo: Test in eclipse (with comments)"
   ]
  },
  {
   "cell_type": "markdown",
   "metadata": {},
   "source": [
    "**Passing by reference, passing by value**\n",
    "\n",
    "- References point to objects on heap (daw picture)\n",
    "- \"Local references\" live on the stack\n",
    "- Reference fields live on the heap\n",
    "- \"Local primitives\" live on the stack\n",
    "- Primitive fields live on the heap\n",
    "- https://www.baeldung.com/java-stack-heap (optional)\n",
    "- When calling a function parameters in programming languages are either passed by value or by reference\n",
    "- Call by value\n",
    "    - Parameters are copied\n",
    "    - Two different variables\n",
    "    - Can be modified independently\n",
    "- Call by reference\n",
    "    - Parameters point to same object in heap\n",
    "    - Two references point to the same object\n",
    "    - Modifications to the object \"effect\" both references\n",
    "    - Reassigning the reference does not have any effect on the source reference\n",
    "- Java is strictly call by value (this can be confusing)"
   ]
  },
  {
   "cell_type": "code",
   "execution_count": 19,
   "metadata": {},
   "outputs": [
    {
     "name": "stdout",
     "output_type": "stream",
     "text": [
      "10\n",
      "10\n",
      "0\n",
      "10\n",
      "10\n",
      "10\n"
     ]
    }
   ],
   "source": [
    "//explain test passing by value\n",
    "public class ModifyStuff {\n",
    "    int a = 0;\n",
    "    \n",
    "    public void modifyInt(int x) {\n",
    "        x = x + 10;\n",
    "    }\n",
    "    \n",
    "    public void modifyStuff1(ModifyStuff x) {\n",
    "        x.a = x.a + 10;\n",
    "    }\n",
    "    \n",
    "    public void modifyStuff2(ModifyStuff x) {\n",
    "        x = new ModifyStuff();\n",
    "        modifyStuff1(x);\n",
    "    }\n",
    "}\n",
    "\n",
    "ModifyStuff a = new ModifyStuff();\n",
    "\n",
    "int i = 10;\n",
    "System.out.println(i);\n",
    "a.modifyInt(i);\n",
    "System.out.println(i);\n",
    "\n",
    "System.out.println(a.a);\n",
    "a.modifyStuff1(a);\n",
    "System.out.println(a.a);\n",
    "\n",
    "System.out.println(a.a);\n",
    "a.modifyStuff2(a);\n",
    "System.out.println(a.a);"
   ]
  },
  {
   "cell_type": "markdown",
   "metadata": {},
   "source": [
    "- Unused objects are destroyed automatically by garbage collector\n",
    "- GC can be \"invoked\" by System.gc()\n",
    "    - But is in general bad practice\n",
    "    - And GC is not guaranteed to run (just a suggestion)\n",
    "- Unused means\n",
    "    - No references pointing to it\n",
    "    - All references gone out of scope\n",
    "- finalize() can be implemented by classes to react on destruction by GC\n",
    "    - Not guaranteed to run\n",
    "    - If GC failed in first attempt, will not get called again\n",
    "    - https://www.baeldung.com/java-finalize"
   ]
  },
  {
   "cell_type": "markdown",
   "metadata": {},
   "source": [
    "**Questions**\n",
    "\n",
    "- https://docs.oracle.com/javase/tutorial/java/javaOO/QandE/objects-questions.html\n",
    "\n",
    "**Creating and Using Arrays**\n",
    "- https://docs.oracle.com/javase/tutorial/java/nutsandbolts/arrays.html\n",
    "- Show with debugger in eclipse\n",
    "\n",
    "**Questions**\n",
    "\n",
    "- https://docs.oracle.com/javase/tutorial/java/nutsandbolts/QandE/questions_variables.html"
   ]
  },
  {
   "cell_type": "markdown",
   "metadata": {},
   "source": [
    "**Looping through arrays with for**\n",
    "\n",
    "- for(init; check; update)\n",
    "    - seperated by semicolon\n",
    "    - check and update may contain multiple statements\n",
    "    - varibale in init only visible in for loop\n",
    "    - check is evaluated before each loop"
   ]
  },
  {
   "cell_type": "code",
   "execution_count": 20,
   "metadata": {},
   "outputs": [
    {
     "name": "stdout",
     "output_type": "stream",
     "text": [
      "0\n",
      "1\n",
      "2\n",
      "3\n",
      "4\n",
      "5\n",
      "6\n",
      "7\n",
      "8\n",
      "9\n",
      "10\n"
     ]
    }
   ],
   "source": [
    "//show also with debugger in eclipse\n",
    "for(int i = 0; i <= 10; i++) {\n",
    "    System.out.println(i);\n",
    "}"
   ]
  },
  {
   "cell_type": "code",
   "execution_count": 21,
   "metadata": {},
   "outputs": [
    {
     "name": "stdout",
     "output_type": "stream",
     "text": [
      "0\n",
      "0\n",
      "1\n",
      "2\n",
      "3\n",
      "4\n",
      "5\n",
      "6\n",
      "7\n",
      "8\n",
      "9\n",
      "10\n",
      "11\n"
     ]
    }
   ],
   "source": [
    "int i = 0;\n",
    "System.out.println(i);\n",
    "for(i = 0; i <= 10; i++) {\n",
    "    System.out.println(i);\n",
    "}\n",
    "System.out.println(i);"
   ]
  },
  {
   "cell_type": "code",
   "execution_count": 22,
   "metadata": {},
   "outputs": [],
   "source": [
    "//infinite loop\n",
    "//for( ; ; ) {\n",
    "// System.out.println(\"Hello World\");\n",
    "//}"
   ]
  },
  {
   "cell_type": "code",
   "execution_count": 23,
   "metadata": {},
   "outputs": [
    {
     "name": "stdout",
     "output_type": "stream",
     "text": [
      "0\n",
      "1\n",
      "2\n",
      "3\n",
      "4\n",
      "5\n"
     ]
    }
   ],
   "source": [
    "for(int i = 0, j = 0; i <= 10 && i <= 5; i++, j++) {\n",
    "    System.out.println(i);\n",
    "}"
   ]
  },
  {
   "cell_type": "code",
   "execution_count": 24,
   "metadata": {},
   "outputs": [
    {
     "name": "stdout",
     "output_type": "stream",
     "text": [
      "0\n",
      "1\n",
      "2\n",
      "3\n",
      "4\n",
      "5\n",
      "6\n",
      "7\n",
      "8\n",
      "9\n",
      "10\n"
     ]
    }
   ],
   "source": [
    "int i = 0; // this should not work - try in eclipse\n",
    "for(int i = 0; i <= 10; i++) { // error\n",
    "    System.out.println(i);\n",
    "}"
   ]
  },
  {
   "cell_type": "code",
   "execution_count": 25,
   "metadata": {},
   "outputs": [
    {
     "ename": "CompilationException",
     "evalue": "",
     "output_type": "error",
     "traceback": [
      "\u001b[1m\u001b[30m|   \u001b[1m\u001b[30mfor(int i = 0,\u001b[0m\u001b[1m\u001b[30m\u001b[41m\u001b[0m\u001b[1m\u001b[30m long j = 0; i <= 10 && i <= 5; i++, j++) {\u001b[0m",
      "\u001b[1m\u001b[31m<identifier> expected\u001b[0m",
      "",
      "\u001b[1m\u001b[30m|   \u001b[1m\u001b[30mfor(int i = 0, long \u001b[0m\u001b[1m\u001b[30m\u001b[41m\u001b[0m\u001b[1m\u001b[30mj = 0; i <= 10 && i <= 5; i++, j++) {\u001b[0m",
      "\u001b[1m\u001b[31m'.class' expected\u001b[0m",
      "",
      "\u001b[1m\u001b[30m|   \u001b[1m\u001b[30mfor(int i = 0, long j = 0\u001b[0m\u001b[1m\u001b[30m\u001b[41m\u001b[0m\u001b[1m\u001b[30m; i <= 10 && i <= 5; i++, j++) {\u001b[0m",
      "\u001b[1m\u001b[31m')' expected\u001b[0m",
      ""
     ]
    }
   ],
   "source": [
    "for(int i = 0, long j = 0; i <= 10 && i <= 5; i++, j++) {\n",
    "    System.out.println(i);\n",
    "}"
   ]
  },
  {
   "cell_type": "code",
   "execution_count": 26,
   "metadata": {},
   "outputs": [
    {
     "name": "stdout",
     "output_type": "stream",
     "text": [
      "0\n",
      "1\n",
      "4\n",
      "9\n",
      "16\n",
      "25\n",
      "36\n",
      "49\n",
      "64\n",
      "81\n"
     ]
    }
   ],
   "source": [
    "int[] myarray = new int[10];\n",
    "for(int i = 0; i < myarray.length; i++) {\n",
    "    myarray[i] = i * i;\n",
    "}\n",
    "\n",
    "for(int i = 0; i < myarray.length; i++) {\n",
    "    System.out.println(myarray[i]);\n",
    "}"
   ]
  },
  {
   "cell_type": "markdown",
   "metadata": {},
   "source": [
    "**Anatomy of methods**\n",
    "- https://docs.oracle.com/javase/tutorial/java/javaOO/methods.html\n",
    "- https://docs.oracle.com/javase/tutorial/java/javaOO/arguments.html\n",
    "- https://docs.oracle.com/javase/tutorial/java/javaOO/returnvalue.html\n",
    "- Overriding comes laters"
   ]
  },
  {
   "cell_type": "code",
   "execution_count": 27,
   "metadata": {},
   "outputs": [
    {
     "name": "stdout",
     "output_type": "stream",
     "text": [
      "1\n",
      "2\n",
      "3\n",
      "6\n"
     ]
    }
   ],
   "source": [
    "public class VarArgs {\n",
    "    public int va1(int ... values) {\n",
    "        int sum = 0;\n",
    "        for(int i = 0; i < values.length; i++) {\n",
    "            sum = sum + values[i];\n",
    "            System.out.println(values[i]);\n",
    "        }\n",
    "        \n",
    "        return sum;\n",
    "    }\n",
    "    \n",
    "    //public void va2(int ... values, int anotherValue) {\n",
    "    //}\n",
    "}\n",
    "\n",
    "System.out.println(new VarArgs().va1(1,2,3));"
   ]
  },
  {
   "cell_type": "markdown",
   "metadata": {},
   "source": [
    "- Static methods\n",
    "    - Utility or helper methods that do not require state\n",
    "    - Or a state stored in static variables that is shared across all instances\n",
    "- Static variables\n",
    "    - Used to share a state across all instances\n",
    "    - Used for final constants (public, private or package), usually written all UPPERCASE\n",
    "- https://www.geeksforgeeks.org/static-methods-vs-instance-methods-java/"
   ]
  },
  {
   "cell_type": "code",
   "execution_count": 28,
   "metadata": {},
   "outputs": [
    {
     "name": "stdout",
     "output_type": "stream",
     "text": [
      "0\n",
      "1\n",
      "2\n"
     ]
    }
   ],
   "source": [
    "public class Counter {\n",
    "    private static int count;\n",
    "    \n",
    "    public Counter() {\n",
    "        Counter.count = Counter.count + 1;\n",
    "    }\n",
    "    \n",
    "    public static int getCount() {\n",
    "        return count;\n",
    "    }\n",
    "}\n",
    "System.out.println(Counter.getCount());\n",
    "System.out.println(new Counter().getCount());\n",
    "System.out.println(new Counter().getCount());"
   ]
  },
  {
   "cell_type": "code",
   "execution_count": 29,
   "metadata": {},
   "outputs": [
    {
     "ename": "CompilationException",
     "evalue": "",
     "output_type": "error",
     "traceback": [
      "\u001b[1m\u001b[30m|   \u001b[1m\u001b[30m        \u001b[0m\u001b[1m\u001b[30m\u001b[41mthird\u001b[0m\u001b[1m\u001b[30m();\u001b[0m",
      "\u001b[1m\u001b[31mnon-static method third() cannot be referenced from a static context\u001b[0m",
      ""
     ]
    }
   ],
   "source": [
    "public class Static {\n",
    "    private String name = \"Static class\";\n",
    "    \n",
    "    public static void first() { }\n",
    "    public static void second() { }\n",
    "    public void third() { System.out.println(name); }\n",
    "    \n",
    "    public static void main() {\n",
    "        first();\n",
    "        second();\n",
    "        third();\n",
    "    }\n",
    "}\n",
    "\n",
    "Static.main();"
   ]
  },
  {
   "cell_type": "code",
   "execution_count": 30,
   "metadata": {},
   "outputs": [
    {
     "ename": "CompilationException",
     "evalue": "",
     "output_type": "error",
     "traceback": [
      "\u001b[1m\u001b[30m|   \u001b[1m\u001b[30m        \u001b[0m\u001b[1m\u001b[30m\u001b[41mNUM_BUCKETS\u001b[0m\u001b[1m\u001b[30m = 5;\u001b[0m",
      "\u001b[1m\u001b[31mcannot assign a value to final variable NUM_BUCKETS\u001b[0m",
      ""
     ]
    }
   ],
   "source": [
    "public class Initializers {\n",
    "    private static final int NUM_BUCKETS = 45;\n",
    "    \n",
    "    public static void test() {\n",
    "        NUM_BUCKETS = 5;\n",
    "    } \n",
    "}\n",
    "\n",
    "Initializers.test();"
   ]
  },
  {
   "cell_type": "code",
   "execution_count": 31,
   "metadata": {},
   "outputs": [],
   "source": [
    "public class Initializers {\n",
    "    private static final int[] STATIC_ARRAY = new int[100];\n",
    "    \n",
    "    public static void test() {\n",
    "        STATIC_ARRAY[0] = 5;\n",
    "    } \n",
    "}\n",
    "\n",
    "Initializers.test();"
   ]
  },
  {
   "cell_type": "code",
   "execution_count": 32,
   "metadata": {},
   "outputs": [
    {
     "ename": "CompilationException",
     "evalue": "",
     "output_type": "error",
     "traceback": [
      "\u001b[1m\u001b[30m|   \u001b[1m\u001b[30m        \u001b[0m\u001b[1m\u001b[30m\u001b[41mNUM_BUCKETS\u001b[0m\u001b[1m\u001b[30m = 5;\u001b[0m",
      "\u001b[1m\u001b[31mcannot assign a value to final variable NUM_BUCKETS\u001b[0m",
      "",
      "\u001b[1m\u001b[30m|   \u001b[1m\u001b[30m    \u001b[0m\u001b[1m\u001b[30m\u001b[41mprivate static final int TEST3;\u001b[0m\u001b[1m\u001b[30m\u001b[0m",
      "\u001b[1m\u001b[31mvariable TEST3 not initialized in the default constructor\u001b[0m",
      ""
     ]
    }
   ],
   "source": [
    "public class Initializers {\n",
    "    private static int TEST = 1;\n",
    "    private static final int TEST2;\n",
    "    private static final int TEST3;\n",
    "    private static final int NUM_BUCKETS = 45;\n",
    "    private static final int[] STATIC_ARRAY = new int[100];\n",
    "    \n",
    "    static {\n",
    "        TEST = 10;\n",
    "        TEST2 = 5;\n",
    "        NUM_BUCKETS = 5;\n",
    "        STATIC_ARRAY[0] = 5;\n",
    "    } \n",
    "}"
   ]
  },
  {
   "cell_type": "markdown",
   "metadata": {},
   "source": [
    "- In practice avoid static and instance initializers\n",
    "    - Use constructors for instances\n",
    "    - For multiline static init static initializers are fine, but then use them for the whole classe\n",
    "    \n",
    "- Static imports\n",
    "    - Only use sparsely, can make code easy and very hard to read at the same time\n",
    "    - https://www.geeksforgeeks.org/static-import-java/"
   ]
  },
  {
   "cell_type": "markdown",
   "metadata": {},
   "source": [
    "**Using if/else**"
   ]
  },
  {
   "cell_type": "code",
   "execution_count": 33,
   "metadata": {},
   "outputs": [
    {
     "name": "stdout",
     "output_type": "stream",
     "text": [
      "if\n",
      "1\n",
      "1\n",
      "1\n",
      "else\n",
      "3\n",
      "else if\n",
      "6\n",
      "if\n",
      "7\n",
      "if\n",
      "8\n"
     ]
    }
   ],
   "source": [
    "//debug in eclipse\n",
    "int i = 0;\n",
    "\n",
    "if(i == 0) {\n",
    "    i = i + 1;\n",
    "    System.out.println(\"if\");\n",
    "}\n",
    "\n",
    "System.out.println(i);\n",
    "\n",
    "i=1;\n",
    "if(i == 0)\n",
    "    i = i + 1;\n",
    "    System.out.println(i);\n",
    "\n",
    "System.out.println(i);\n",
    "\n",
    "if(i == 0) {\n",
    "    i = i + 1;\n",
    "    System.out.println(\"if\");\n",
    "} else {\n",
    "    i = i + 2;\n",
    "    System.out.println(\"else\");\n",
    "}\n",
    "\n",
    "System.out.println(i);\n",
    "\n",
    "if(i == 0) {\n",
    "    i = i + 1;\n",
    "    System.out.println(\"if\");\n",
    "} else if (i == 3) {\n",
    "    i = i + 3;\n",
    "    System.out.println(\"else if\");\n",
    "}\n",
    "else {\n",
    "    i = i + 2;\n",
    "    System.out.println(\"else\");\n",
    "}\n",
    "\n",
    "System.out.println(i);\n",
    "\n",
    "if(i == 6 && i % 2 == 0) {\n",
    "    i = i + 1;\n",
    "    System.out.println(\"if\");\n",
    "}\n",
    "\n",
    "System.out.println(i);\n",
    "\n",
    "boolean check = i == 7;\n",
    "\n",
    "if(check) {\n",
    "    i = i + 1;\n",
    "    System.out.println(\"if\");\n",
    "}\n",
    "\n",
    "System.out.println(i);"
   ]
  },
  {
   "cell_type": "code",
   "execution_count": 34,
   "metadata": {},
   "outputs": [
    {
     "ename": "CompilationException",
     "evalue": "",
     "output_type": "error",
     "traceback": [
      "\u001b[1m\u001b[30m|   \u001b[1m\u001b[30mif(\u001b[0m\u001b[1m\u001b[30m\u001b[41mx\u001b[0m\u001b[1m\u001b[30m) {\u001b[0m",
      "\u001b[1m\u001b[31mincompatible types: int cannot be converted to boolean\u001b[0m",
      ""
     ]
    }
   ],
   "source": [
    "int x = 1;\n",
    "\n",
    "if(x) {\n",
    "    System.out.println(x);\n",
    "}\n",
    "\n",
    "if(x q 1) {\n",
    "    System.out.println(x);\n",
    "}"
   ]
  },
  {
   "cell_type": "code",
   "execution_count": 35,
   "metadata": {},
   "outputs": [
    {
     "name": "stdout",
     "output_type": "stream",
     "text": [
      "20\n"
     ]
    }
   ],
   "source": [
    "//explain conditional operator ?, ternary Operator\n",
    "int y = 10;\n",
    "int x;\n",
    "\n",
    "if(y > 5) {\n",
    "    x = 2 * y;\n",
    "} else {\n",
    "    x = 3 * y;\n",
    "}\n",
    "\n",
    "//this can be written shorter\n",
    "int x2 = (y > 5) ? (2 * y) : (3 * y);\n",
    "\n",
    "int x3 = y > 5 ? 2 * y : 3 * y; // not easy readable\n",
    "\n",
    "//y > 5 ? y = 1 : y = 2; //does not work, returns no value\n",
    "System.out.println((y > 5) ? (2 * y) : \"mystring\"); //works\n",
    "//int x2 = (y > 5) ? (2 * y) : \"mystring\"; //does not work, wrong type"
   ]
  },
  {
   "cell_type": "markdown",
   "metadata": {},
   "source": []
  }
 ],
 "metadata": {
  "kernelspec": {
   "display_name": "Java",
   "language": "java",
   "name": "java"
  },
  "language_info": {
   "codemirror_mode": "java",
   "file_extension": ".jshell",
   "mimetype": "text/x-java-source",
   "name": "Java",
   "pygments_lexer": "java",
   "version": "9+181"
  }
 },
 "nbformat": 4,
 "nbformat_minor": 2
}
