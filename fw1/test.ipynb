{
 "cells": [
  {
   "cell_type": "markdown",
   "metadata": {},
   "source": [
    "**FW1 Test**\n",
    "\n",
    "- Design Patterns\n",
    "    - Singleton\n",
    "    - Static Factory\n",
    "    - Builder\n",
    "    - Proxy\n",
    "    - Strategy\n",
    "    - Observer\n",
    "- Arch Patterns\n",
    "    - MVC\n",
    "    - Layers\n",
    "- Other Patterns\n",
    "    - DTO\n",
    "- What is Dependency Injection?\n",
    "    - Injcetion methods?\n",
    "- What is a Framework?\n",
    "- What is IoC?\n",
    "- What is Reflection?\n",
    "- How to process annotations with reflection?\n",
    "- Spring Context\n",
    "    - Config xml vs annoations\n",
    "    - Annotations\n",
    "        - @Component\n",
    "        - @Configuration\n",
    "        - @Bean\n",
    "        - @ComponentScan\n",
    "        - @Autowired\n",
    "        - @Qualifier\n",
    "        - @Scope\n",
    "        - @Controller\n",
    "        - @Repository\n",
    "    - JSR 330\n",
    "        - @Inject\n",
    "        - @Named\n",
    "- Spring Data\n",
    "    - What is a CrudRepository/JPARepository and how to use it?\n",
    "- Spring Web\n",
    "    - Spring MVC (noch mal Christian drauf ansprechen)\n",
    "    - Spring RestTemplate (noch mal Christian drauf ansprechen)\n",
    "    - Annotations\n",
    "        - @RequestMapping, @GetMapping etc\n",
    "        - @RequestParam\n",
    "        - @PathVariable\n",
    "        - @RequestBody\n",
    "        - @ResponseBody\n",
    "- REST\n",
    "    - Http methods\n",
    "    - Path naming convetions"
   ]
  },
  {
   "cell_type": "code",
   "execution_count": null,
   "metadata": {},
   "outputs": [],
   "source": []
  }
 ],
 "metadata": {
  "kernelspec": {
   "display_name": "Python 3",
   "language": "python",
   "name": "python3"
  },
  "language_info": {
   "codemirror_mode": {
    "name": "ipython",
    "version": 3
   },
   "file_extension": ".py",
   "mimetype": "text/x-python",
   "name": "python",
   "nbconvert_exporter": "python",
   "pygments_lexer": "ipython3",
   "version": "3.7.4"
  }
 },
 "nbformat": 4,
 "nbformat_minor": 4
}
