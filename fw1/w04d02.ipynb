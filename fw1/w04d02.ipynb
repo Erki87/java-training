{
 "cells": [
  {
   "cell_type": "markdown",
   "metadata": {},
   "source": [
    "**Spring Core**\n",
    "\n",
    "- https://spring.io/projects/spring-framework\n",
    "    - \"plumbing\" of enterprise applications\n",
    "    - https://docs.spring.io/spring-framework/docs/current/spring-framework-reference/images/container-magic.png\n",
    "    - Dependency injection (IoC Container)\n",
    "    - Events\n",
    "    - Resources\n",
    "    - Internationalization\n",
    "    - Validation\n",
    "    - Data binding\n",
    "    - Type conversion\n",
    "    - SpEL (Spring expression language)\n",
    "    - AOP (Aspect oriented programming)\n",
    "- Spring annotations\n",
    "    - https://springframework.guru/spring-framework-annotations/\n",
    "    - @Component\n",
    "    - @Configuration\n",
    "        - @Bean\n",
    "        - @ComponentScan\n",
    "        - @ImportResource\n",
    "        - @PropertySource\n",
    "    - @Autowired\n",
    "    - @Qualifier\n",
    "    - @Required\n",
    "    - @Lazy\n",
    "    - @Scope\n",
    "        - https://www.baeldung.com/spring-bean-scopes\n",
    "    - @Value    \n",
    "    - @Controller\n",
    "    - @Service\n",
    "    - @Repository\n",
    "    - https://www.baeldung.com/spring-component-repository-service\n",
    "- Spring XML\n",
    "    - https://spring.io/projects/spring-framework\n",
    "- JSR 330 annotations\n",
    "    - http://buraktas.com/java-cdi-dependency-injection-example/\n",
    "    - @Inject\n",
    "    - @Named\n",
    "- https://javarevisited.blogspot.com/2017/04/difference-between-autowired-and-inject-annotation-in-spring-framework.html\n",
    "- Configuration\n",
    "    - https://www.baeldung.com/hibernate-5-spring\n",
    "- Properties\n",
    "    - https://www.baeldung.com/properties-with-spring\n",
    "\n",
    "**Spring Data**\n",
    "\n",
    "- https://www.baeldung.com/the-persistence-layer-with-spring-and-jpa\n",
    "- https://www.baeldung.com/the-persistence-layer-with-spring-data-jpa\n",
    "- CrudRepository\n",
    "- JPARepository\n",
    "- https://docs.spring.io/spring-data/jpa/docs/current/reference/html/#reference"
   ]
  },
  {
   "cell_type": "code",
   "execution_count": null,
   "metadata": {},
   "outputs": [],
   "source": []
  }
 ],
 "metadata": {
  "kernelspec": {
   "display_name": "Python 3",
   "language": "python",
   "name": "python3"
  },
  "language_info": {
   "codemirror_mode": {
    "name": "ipython",
    "version": 3
   },
   "file_extension": ".py",
   "mimetype": "text/x-python",
   "name": "python",
   "nbconvert_exporter": "python",
   "pygments_lexer": "ipython3",
   "version": "3.7.6"
  }
 },
 "nbformat": 4,
 "nbformat_minor": 2
}
