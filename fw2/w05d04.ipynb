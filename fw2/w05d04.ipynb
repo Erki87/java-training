{
 "cells": [
  {
   "cell_type": "markdown",
   "metadata": {},
   "source": [
    "**Thymleaf**\n",
    "\n",
    "- Java lib\n",
    "- XML/XHTML/HTML5 template engine\n",
    "- Server side rendering\n",
    "- Spring MVC requires ViewResolver for each view technology\n",
    "- https://justforchangesake.files.wordpress.com/2014/05/spring-request-lifecycle.jpg\n",
    "- ThymeleafViewResolver\n",
    "    - Implements Spring ViewResolver\n",
    "    - Maps view names to individual views    \n",
    "    - SpringTemplateEngine\n",
    "        - Configures ThymeleafViewResolver\n",
    "        - ServletContextTemplateResolver\n",
    "            - Uses prefix and sufix to determine which Thymeleaf view to render for a given view name\n",
    "        - ResourceBundleMessageSource\n",
    "            - Provides property placeholders to fill templates\n",
    "- https://mkyong.com/spring-boot/spring-boot-hello-world-example-thymeleaf/\n",
    "- https://www.thymeleaf.org/doc/tutorials/3.0/thymeleafspring.html\n",
    "\n",
    "**Exercises**\n",
    "1. Implement a CrudRepository using h2 backend\n",
    "2. Implement all injection methods using spring and manual (incl fields)\n",
    "3. Implement a simple rest controller with path variable\n",
    "4. Use spring to inject a dependency via autowire and xml\n",
    "5. Create a unit test using all JUnit annotations incl Stub and mock\n",
    "6. Use JSR330 & spring to inject duplicated beans & use prototype/singleton\n",
    "7. Implement an aspect and use spring proxy to wire it\n",
    "8. Implement singleton, factory & builder\n",
    "9. Use reflection to get all classes with a certain annotation\n",
    "10. Use RestTemplate to access\n",
    "    - https://developer.deutschebahn.com/store/apis/info?name=Fahrplan-Free&version=v1&provider=DBOpenData\n",
    "    \n",
    "    \n",
    "1. students.add(\"a.kaya@accenture.com;\"); students.add(\"hakimjon.turaboev@accenture.com\");\n",
    "2. students.add(\"elaine.fruehwirth@accenture.com;\");\n",
    "3. students.add(\"manuel.schlatter@accenture.com;\");\n",
    "4. students.add(\"alain.regniet@accenture.com;\");\n",
    "5. students.add(\"cam-linh.nguyen@accenture.com;\");\n",
    "6. students.add(\"alexander.roemelt@accenture.com;\");\n",
    "7. students.add(\"dominik.wawrzinek@accenture.com;\");\n",
    "8. students.add(\"bilal.benmaghnia@accenture.com;\");\n",
    "9. students.add(\"yasin.demirkan@accenture.com;\");\n",
    "10. students.add(\"saoud.asla@accenture.com;\");"
   ]
  },
  {
   "cell_type": "code",
   "execution_count": null,
   "metadata": {},
   "outputs": [],
   "source": []
  }
 ],
 "metadata": {
  "kernelspec": {
   "display_name": "Python 3",
   "language": "python",
   "name": "python3"
  },
  "language_info": {
   "codemirror_mode": {
    "name": "ipython",
    "version": 3
   },
   "file_extension": ".py",
   "mimetype": "text/x-python",
   "name": "python",
   "nbconvert_exporter": "python",
   "pygments_lexer": "ipython3",
   "version": "3.7.6"
  }
 },
 "nbformat": 4,
 "nbformat_minor": 4
}
